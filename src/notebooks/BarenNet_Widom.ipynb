{
 "cells": [
  {
   "cell_type": "code",
   "execution_count": 1,
   "metadata": {},
   "outputs": [
    {
     "name": "stderr",
     "output_type": "stream",
     "text": [
      "2022-07-14 11:14:50.377967: W tensorflow/stream_executor/platform/default/dso_loader.cc:64] Could not load dynamic library 'libcudart.so.11.0'; dlerror: libcudart.so.11.0: cannot open shared object file: No such file or directory\n",
      "2022-07-14 11:14:50.378014: I tensorflow/stream_executor/cuda/cudart_stub.cc:29] Ignore above cudart dlerror if you do not have a GPU set up on your machine.\n"
     ]
    }
   ],
   "source": [
    "import os, sys\n",
    "\n",
    "import numpy as np\n",
    "import pandas as pd\n",
    "import tensorflow as tf\n",
    "import random\n",
    "import matplotlib.pyplot as plt\n",
    "import matplotlib.font_manager as font_manager\n",
    "plt.rc('mathtext', fontset=\"cm\")\n",
    "import matplotlib.ticker as mtick\n",
    "import seaborn as sns\n",
    "import matplotlib\n",
    "\n",
    "module_path = os.path.abspath(os.path.join('..'))\n",
    "if module_path not in sys.path:\n",
    "  sys.path.append(module_path)\n",
    "\n",
    "from utils.utils import Create_Similarity_Model\n",
    "\n",
    "sns.set_style('whitegrid')\n",
    "sns.set_context(\"talk\")"
   ]
  },
  {
   "cell_type": "markdown",
   "metadata": {},
   "source": [
    "## Now we will create our model"
   ]
  },
  {
   "cell_type": "code",
   "execution_count": 2,
   "metadata": {},
   "outputs": [],
   "source": [
    "n_nonsimilar = 1\n",
    "n_similar = 1\n",
    "\n",
    "### We will look for similarity in the last n_similar parameters of the inputs."
   ]
  },
  {
   "cell_type": "markdown",
   "metadata": {},
   "source": [
    "## Load the MVP data for high enough Re"
   ]
  },
  {
   "cell_type": "code",
   "execution_count": 3,
   "metadata": {},
   "outputs": [],
   "source": [
    "Nr=30                #Amount of r points\n",
    "Nj=5                 #Amount of j points\n",
    "mr=0.01              #Minimum for r points\n",
    "Mr=20                #Maximum for r points\n",
    "mj=0.1               #Minimum for j points\n",
    "Mj=1                 #Maximum for j points\n",
    "\n",
    "possible_r=np.linspace(mr,Mr,Nr)\n",
    "possible_j=np.linspace(mj,Mj,Nj)"
   ]
  },
  {
   "cell_type": "code",
   "execution_count": 8,
   "metadata": {},
   "outputs": [],
   "source": [
    "df = pd.read_excel('../../Data/Generated Widom Data/dphi_10.xlsx')\n",
    "\n",
    "R_ = []\n",
    "J_ = []\n",
    "Phi_= []\n",
    "dic_x = {}\n",
    "dic_y = {}\n",
    "\n",
    "for i in range(len(possible_j)):\n",
    "    possible_phi = df.iloc[:, i].values\n",
    "    for k in range(len(possible_phi)):\n",
    "        R_.append(possible_r[k])\n",
    "        J_.append(possible_j[i])\n",
    "        Phi_.append(possible_phi[k])\n",
    "\n",
    "c = list(zip(R_, J_, Phi_))\n",
    "random.shuffle(c)\n",
    "R_, J_, Phi_ = zip(*c)\n",
    "\n",
    "R_ = np.log(R_)\n",
    "J_ = np.log(J_)\n",
    "\n",
    "dic_x['r'] = R_\n",
    "dic_x['j'] = J_\n",
    "dic_y['phi'] = np.array(Phi_)\n",
    "\n",
    "nonsimilar_keys = ['r']\n",
    "\n",
    "xtrain = pd.DataFrame.from_dict(dic_x).values\n",
    "ytrain = pd.DataFrame.from_dict(dic_y).values"
   ]
  },
  {
   "cell_type": "code",
   "execution_count": 31,
   "metadata": {},
   "outputs": [
    {
     "name": "stdout",
     "output_type": "stream",
     "text": [
      "0.017769841477274895\n",
      "total tries = 1\n",
      "0.017769841477274895\n",
      "total tries = 2\n",
      "0.017769841477274895\n",
      "total tries = 3\n",
      "0.017769841477274895\n",
      "total tries = 4\n",
      "0.017769841477274895\n",
      "total tries = 5\n",
      "0.017769841477274895\n",
      "total tries = 6\n",
      "0.017769841477274895\n",
      "total tries = 7\n",
      "0.017769841477274895\n",
      "total tries = 8\n",
      "6.8167737481417134e-06\n",
      "total tries = 9\n"
     ]
    }
   ],
   "source": [
    "loss = 'mean_squared_error'\n",
    "optimizer = 'adam'\n",
    "best_loss = 50.0\n",
    "#n_fits = 20                     # Number of model fits we will try to perform\n",
    "n_fits = 1\n",
    "n_epochs_initial = 1000           # Number of epochs we will train inside the loop\n",
    "n_epochs_final = 10000            # Number of epochs we will train after convergence is established\n",
    "successfull_tries = 0\n",
    "\n",
    "total_tries = 0\n",
    "\n",
    "while successfull_tries < n_fits:\n",
    "    total_tries += 1\n",
    "    model = Create_Similarity_Model(n_nonsimilar = n_nonsimilar, n_similar = n_similar)\n",
    "    model.compile(loss = loss, optimizer = optimizer)\n",
    "    model.fit(xtrain, ytrain, epochs = n_epochs_initial, verbose = 0)\n",
    "    current_loss = model.evaluate(xtrain, ytrain, verbose = 0)\n",
    "    print(current_loss)\n",
    "    print('total tries = ' + str(total_tries))\n",
    "    if current_loss < 0.01:\n",
    "        successfull_tries += 1\n",
    "        model.fit(xtrain, ytrain, epochs = n_epochs_final, verbose = 0)\n",
    "        good_loss = model.evaluate(xtrain, ytrain, verbose = 0)\n",
    "        if good_loss < best_loss:\n",
    "            best_model = model\n",
    "            best_loss = good_loss\n",
    "    "
   ]
  },
  {
   "cell_type": "code",
   "execution_count": 32,
   "metadata": {},
   "outputs": [
    {
     "data": {
      "text/plain": [
       "1.1742783954105107e-06"
      ]
     },
     "execution_count": 32,
     "metadata": {},
     "output_type": "execute_result"
    }
   ],
   "source": [
    "# best_model.fit(xtrain, ytrain, epochs = 10000, verbose = 0)\n",
    "best_model.evaluate(xtrain, ytrain, verbose = 0)"
   ]
  },
  {
   "cell_type": "code",
   "execution_count": 33,
   "metadata": {},
   "outputs": [
    {
     "name": "stdout",
     "output_type": "stream",
     "text": [
      "Exponents multiplicating inside the function for r: [-0.66482025]\n",
      "Exponents multiplicating outside the function: [0.33455262]\n"
     ]
    }
   ],
   "source": [
    "for i in range(n_nonsimilar):\n",
    "    similarity_exponents = best_model.get_layer('similarity_layer_' + str(i+1)).weights[0][0].numpy()\n",
    "    print('Exponents multiplicating inside the function for ' + nonsimilar_keys[i] + ': ' + str(similarity_exponents))\n",
    "\n",
    "multiplication_exponents = best_model.get_layer('multiplication_layer').weights[0][0].numpy()\n",
    "print('Exponents multiplicating outside the function: ' + str(multiplication_exponents))"
   ]
  },
  {
   "cell_type": "code",
   "execution_count": 34,
   "metadata": {},
   "outputs": [],
   "source": [
    "scaling_factor_r = -similarity_exponents\n",
    "scaling_factor_phi = multiplication_exponents\n",
    "\n",
    "r__ = []\n",
    "phi__ = []\n",
    "j__ = possible_j\n",
    "\n",
    "for i in range(len(possible_j)):\n",
    "    r = possible_r\n",
    "    phi = df.iloc[:, i]\n",
    "    r__.append(r / (possible_j[i] ** scaling_factor_r))\n",
    "    phi__.append(phi / (possible_j[i] ** scaling_factor_phi))"
   ]
  },
  {
   "cell_type": "code",
   "execution_count": 43,
   "metadata": {},
   "outputs": [
    {
     "data": {
      "image/png": "[encoded data removed]",
      "text/plain": [
       "<Figure size 1152x720 with 1 Axes>"
      ]
     },
     "metadata": {
      "needs_background": "light"
     },
     "output_type": "display_data"
    }
   ],
   "source": [
    "fig, ax1 = plt.subplots(figsize=(16, 10))\n",
    "\n",
    "colors = matplotlib.cm.tab10(np.linspace(0, 1, 10))\n",
    "markers=['o','^','s','d','P','*','v','X','<']\n",
    "line_width = 0.5\n",
    "\n",
    "j=0\n",
    "for i in range(len(possible_j)):\n",
    "    ax1.scatter(r__[i] , phi__[i] , s=40 , linewidth = line_width , facecolors='none', color = colors[i], marker = markers[j%len(markers)], label = r'$j = $'+r'${:.3f}$'.format(possible_j[i]))\n",
    "    j+=1\n",
    "\n",
    "font = font_manager.FontProperties(family='DejaVu Sans',\n",
    "                                   weight='roman',\n",
    "                                   style='normal', size = 'xx-large', stretch = 'ultra-condensed')\n",
    "\n",
    "ax1.legend(loc = 'upper right', edgecolor = 'white', framealpha = 0, prop = font, borderaxespad=0.)\n",
    "ax1.set_xlabel(r\"$r/j^{0.6648}$\", size = 'xx-large')\n",
    "ax1.set_ylabel(r'$\\phi/j^{0.3345}$', size = 'xx-large')\n",
    "ax1.grid(False)\n",
    "ax1.spines['bottom'].set_color('black')\n",
    "ax1.spines['top'].set_color('black')\n",
    "ax1.spines['left'].set_color('black')\n",
    "ax1.spines['right'].set_color('black')\n",
    "plt.savefig('Figures/Widom Test.pdf', format='pdf', dpi=1200)\n",
    "plt.show()"
   ]
  }
 ],
 "metadata": {
  "interpreter": {
   "hash": "31f2aee4e71d21fbe5cf8b01ff0e069b9275f58929596ceb00d14d90e3e16cd6"
  },
  "kernelspec": {
   "display_name": "Python 3.10.4 64-bit",
   "language": "python",
   "name": "python3"
  },
  "language_info": {
   "codemirror_mode": {
    "name": "ipython",
    "version": 3
   },
   "file_extension": ".py",
   "mimetype": "text/x-python",
   "name": "python",
   "nbconvert_exporter": "python",
   "pygments_lexer": "ipython3",
   "version": "3.8.10"
  },
  "orig_nbformat": 4
 },
 "nbformat": 4,
 "nbformat_minor": 2
}
