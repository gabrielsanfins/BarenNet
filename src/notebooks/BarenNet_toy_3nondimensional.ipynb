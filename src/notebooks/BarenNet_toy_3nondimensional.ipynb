{
 "cells": [
  {
   "cell_type": "code",
   "execution_count": 1,
   "metadata": {},
   "outputs": [
    {
     "name": "stderr",
     "output_type": "stream",
     "text": [
      "2022-09-15 13:47:17.455526: W tensorflow/stream_executor/platform/default/dso_loader.cc:64] Could not load dynamic library 'libcudart.so.11.0'; dlerror: libcudart.so.11.0: cannot open shared object file: No such file or directory\n",
      "2022-09-15 13:47:17.455542: I tensorflow/stream_executor/cuda/cudart_stub.cc:29] Ignore above cudart dlerror if you do not have a GPU set up on your machine.\n"
     ]
    }
   ],
   "source": [
    "import os, sys\n",
    "\n",
    "import numpy as np\n",
    "import pandas as pd\n",
    "import random\n",
    "import tensorflow as tf\n",
    "\n",
    "module_path = os.path.abspath(os.path.join('..'))\n",
    "if module_path not in sys.path:\n",
    "  sys.path.append(module_path)\n",
    "\n",
    "from utils.utils import Create_Similarity_Model\n",
    "\n",
    "import matplotlib.pyplot as plt\n",
    "import matplotlib.font_manager as font_manager\n",
    "from mpl_toolkits import mplot3d\n",
    "plt.rc('mathtext', fontset=\"cm\")\n",
    "import matplotlib.ticker as mtick\n",
    "import seaborn as sns\n",
    "import matplotlib\n",
    "\n",
    "sns.set_style('whitegrid')\n",
    "sns.set_context(\"talk\")"
   ]
  },
  {
   "cell_type": "code",
   "execution_count": 2,
   "metadata": {},
   "outputs": [],
   "source": [
    "n_nonsimilar = 2\n",
    "n_similar = 1"
   ]
  },
  {
   "cell_type": "code",
   "execution_count": 10,
   "metadata": {},
   "outputs": [
    {
     "name": "stdout",
     "output_type": "stream",
     "text": [
      "              u+\n",
      "0       0.604959\n",
      "1      -5.959229\n",
      "2       9.917355\n",
      "3      10.999770\n",
      "4      22.923554\n",
      "...          ...\n",
      "99995  20.452066\n",
      "99996  32.000000\n",
      "99997 -95.811157\n",
      "99998  -5.620248\n",
      "99999  32.317355\n",
      "\n",
      "[100000 rows x 1 columns]\n"
     ]
    }
   ],
   "source": [
    "possible_re_tau = np.linspace(start = 10, stop = 100, num = 10)\n",
    "possible_he = np.linspace(start = 100, stop = 10000, num = 100)\n",
    "possible_r = np.linspace(start = 0.1, stop = 0.2, num = 100)\n",
    "Re_tau = []\n",
    "He_ = []\n",
    "R_ =[]\n",
    "Y_ = []\n",
    "U_ = []\n",
    "dic_x = {}\n",
    "dic_y = {}\n",
    "\n",
    "for re_tau in possible_re_tau:\n",
    "    for he in possible_he:\n",
    "        #possible_y = np.linspace(start = re_tau / 8, stop = re_tau, num = 100)\n",
    "        for r in possible_r:\n",
    "            R_.append(r)\n",
    "            #Y_.append(y_)\n",
    "            He_.append(he)\n",
    "            Re_tau.append(re_tau)\n",
    "            u_ = ((re_tau / 2) * (1 - (r ** 2))) - ((1 - r) * (he / re_tau))\n",
    "            U_.append(u_)\n",
    "\n",
    "# fig = plt.figure(figsize = (10, 7))\n",
    "# ax = plt.axes(projection =\"3d\")\n",
    "\n",
    "# surf = ax.scatter(np.array(R_), np.array(He_) / (np.array(Re_tau) ** 2), np.array(U_) / np.array(Re_tau))\n",
    "# plt.show()\n",
    "\n",
    "c = list(zip(R_, He_, Re_tau, U_))\n",
    "random.shuffle(c)\n",
    "R_, He_, Re_tau, U_= zip(*c)\n",
    "\n",
    "dic_x['r'] = R_\n",
    "dic_x['He'] = He_\n",
    "dic_x['Re_tau'] = Re_tau\n",
    "dic_y['u+'] = U_\n",
    "\n",
    "\n",
    "nonsimilar_keys = ['r', 'He']\n",
    "\n",
    "xtrain_df = pd.DataFrame.from_dict(dic_x)\n",
    "\n",
    "xtrain = np.log(xtrain_df.values)\n",
    "ytrain = pd.DataFrame.from_dict(dic_y)\n",
    "print(ytrain)"
   ]
  },
  {
   "cell_type": "code",
   "execution_count": 5,
   "metadata": {},
   "outputs": [
    {
     "name": "stdout",
     "output_type": "stream",
     "text": [
      "Epoch 1/10\n",
      "1044/3125 [=========>....................] - ETA: 5s - loss: nan"
     ]
    },
    {
     "ename": "KeyboardInterrupt",
     "evalue": "",
     "output_type": "error",
     "traceback": [
      "\u001b[0;31m---------------------------------------------------------------------------\u001b[0m",
      "\u001b[0;31mKeyboardInterrupt\u001b[0m                         Traceback (most recent call last)",
      "\u001b[1;32m/home/gabriel/Projects Github/BarenNet/src/notebooks/BarenNet_toy_3nondimensional.ipynb Cell 4\u001b[0m in \u001b[0;36m<cell line: 13>\u001b[0;34m()\u001b[0m\n\u001b[1;32m     <a href='vscode-notebook-cell:/home/gabriel/Projects%20Github/BarenNet/src/notebooks/BarenNet_toy_3nondimensional.ipynb#W3sZmlsZQ%3D%3D?line=10'>11</a>\u001b[0m \u001b[39m#model.summary()\u001b[39;00m\n\u001b[1;32m     <a href='vscode-notebook-cell:/home/gabriel/Projects%20Github/BarenNet/src/notebooks/BarenNet_toy_3nondimensional.ipynb#W3sZmlsZQ%3D%3D?line=11'>12</a>\u001b[0m model\u001b[39m.\u001b[39mcompile(loss \u001b[39m=\u001b[39m loss, optimizer \u001b[39m=\u001b[39m optimizer)\n\u001b[0;32m---> <a href='vscode-notebook-cell:/home/gabriel/Projects%20Github/BarenNet/src/notebooks/BarenNet_toy_3nondimensional.ipynb#W3sZmlsZQ%3D%3D?line=12'>13</a>\u001b[0m model\u001b[39m.\u001b[39;49mfit(xtrain, ytrain, epochs \u001b[39m=\u001b[39;49m n_epochs_initial, verbose \u001b[39m=\u001b[39;49m \u001b[39m1\u001b[39;49m)\n",
      "File \u001b[0;32m~/.local/lib/python3.8/site-packages/keras/utils/traceback_utils.py:64\u001b[0m, in \u001b[0;36mfilter_traceback.<locals>.error_handler\u001b[0;34m(*args, **kwargs)\u001b[0m\n\u001b[1;32m     62\u001b[0m filtered_tb \u001b[39m=\u001b[39m \u001b[39mNone\u001b[39;00m\n\u001b[1;32m     63\u001b[0m \u001b[39mtry\u001b[39;00m:\n\u001b[0;32m---> 64\u001b[0m   \u001b[39mreturn\u001b[39;00m fn(\u001b[39m*\u001b[39;49margs, \u001b[39m*\u001b[39;49m\u001b[39m*\u001b[39;49mkwargs)\n\u001b[1;32m     65\u001b[0m \u001b[39mexcept\u001b[39;00m \u001b[39mException\u001b[39;00m \u001b[39mas\u001b[39;00m e:  \u001b[39m# pylint: disable=broad-except\u001b[39;00m\n\u001b[1;32m     66\u001b[0m   filtered_tb \u001b[39m=\u001b[39m _process_traceback_frames(e\u001b[39m.\u001b[39m__traceback__)\n",
      "File \u001b[0;32m~/.local/lib/python3.8/site-packages/keras/engine/training.py:1409\u001b[0m, in \u001b[0;36mModel.fit\u001b[0;34m(self, x, y, batch_size, epochs, verbose, callbacks, validation_split, validation_data, shuffle, class_weight, sample_weight, initial_epoch, steps_per_epoch, validation_steps, validation_batch_size, validation_freq, max_queue_size, workers, use_multiprocessing)\u001b[0m\n\u001b[1;32m   1402\u001b[0m \u001b[39mwith\u001b[39;00m tf\u001b[39m.\u001b[39mprofiler\u001b[39m.\u001b[39mexperimental\u001b[39m.\u001b[39mTrace(\n\u001b[1;32m   1403\u001b[0m     \u001b[39m'\u001b[39m\u001b[39mtrain\u001b[39m\u001b[39m'\u001b[39m,\n\u001b[1;32m   1404\u001b[0m     epoch_num\u001b[39m=\u001b[39mepoch,\n\u001b[1;32m   1405\u001b[0m     step_num\u001b[39m=\u001b[39mstep,\n\u001b[1;32m   1406\u001b[0m     batch_size\u001b[39m=\u001b[39mbatch_size,\n\u001b[1;32m   1407\u001b[0m     _r\u001b[39m=\u001b[39m\u001b[39m1\u001b[39m):\n\u001b[1;32m   1408\u001b[0m   callbacks\u001b[39m.\u001b[39mon_train_batch_begin(step)\n\u001b[0;32m-> 1409\u001b[0m   tmp_logs \u001b[39m=\u001b[39m \u001b[39mself\u001b[39;49m\u001b[39m.\u001b[39;49mtrain_function(iterator)\n\u001b[1;32m   1410\u001b[0m   \u001b[39mif\u001b[39;00m data_handler\u001b[39m.\u001b[39mshould_sync:\n\u001b[1;32m   1411\u001b[0m     context\u001b[39m.\u001b[39masync_wait()\n",
      "File \u001b[0;32m~/.local/lib/python3.8/site-packages/tensorflow/python/util/traceback_utils.py:150\u001b[0m, in \u001b[0;36mfilter_traceback.<locals>.error_handler\u001b[0;34m(*args, **kwargs)\u001b[0m\n\u001b[1;32m    148\u001b[0m filtered_tb \u001b[39m=\u001b[39m \u001b[39mNone\u001b[39;00m\n\u001b[1;32m    149\u001b[0m \u001b[39mtry\u001b[39;00m:\n\u001b[0;32m--> 150\u001b[0m   \u001b[39mreturn\u001b[39;00m fn(\u001b[39m*\u001b[39;49margs, \u001b[39m*\u001b[39;49m\u001b[39m*\u001b[39;49mkwargs)\n\u001b[1;32m    151\u001b[0m \u001b[39mexcept\u001b[39;00m \u001b[39mException\u001b[39;00m \u001b[39mas\u001b[39;00m e:\n\u001b[1;32m    152\u001b[0m   filtered_tb \u001b[39m=\u001b[39m _process_traceback_frames(e\u001b[39m.\u001b[39m__traceback__)\n",
      "File \u001b[0;32m~/.local/lib/python3.8/site-packages/tensorflow/python/eager/def_function.py:925\u001b[0m, in \u001b[0;36mFunction.__call__\u001b[0;34m(self, *args, **kwds)\u001b[0m\n\u001b[1;32m    923\u001b[0m \u001b[39mif\u001b[39;00m context\u001b[39m.\u001b[39mexecuting_eagerly():\n\u001b[1;32m    924\u001b[0m   \u001b[39mif\u001b[39;00m without_tracing:\n\u001b[0;32m--> 925\u001b[0m     _frequent_tracing_detector_manager\u001b[39m.\u001b[39;49mcalled_without_tracing(\n\u001b[1;32m    926\u001b[0m         \u001b[39mself\u001b[39;49m\u001b[39m.\u001b[39;49m_key_for_call_stats)\n\u001b[1;32m    927\u001b[0m   \u001b[39melse\u001b[39;00m:\n\u001b[1;32m    928\u001b[0m     _frequent_tracing_detector_manager\u001b[39m.\u001b[39mcalled_with_tracing(\n\u001b[1;32m    929\u001b[0m         \u001b[39mself\u001b[39m\u001b[39m.\u001b[39m_key_for_call_stats, \u001b[39mself\u001b[39m\u001b[39m.\u001b[39m_python_function,\n\u001b[1;32m    930\u001b[0m         \u001b[39mself\u001b[39m\u001b[39m.\u001b[39m_omit_frequent_tracing_warning)\n",
      "File \u001b[0;32m~/.local/lib/python3.8/site-packages/tensorflow/python/eager/def_function.py:187\u001b[0m, in \u001b[0;36m_FrequentTracingDetectorManager.called_without_tracing\u001b[0;34m(self, key)\u001b[0m\n\u001b[1;32m    185\u001b[0m \u001b[39mdef\u001b[39;00m \u001b[39mcalled_without_tracing\u001b[39m(\u001b[39mself\u001b[39m, key):\n\u001b[1;32m    186\u001b[0m   \u001b[39mwith\u001b[39;00m \u001b[39mself\u001b[39m\u001b[39m.\u001b[39m_lock:\n\u001b[0;32m--> 187\u001b[0m     detector \u001b[39m=\u001b[39m \u001b[39mself\u001b[39;49m\u001b[39m.\u001b[39;49m_get_detector(key)\n\u001b[1;32m    188\u001b[0m     detector\u001b[39m.\u001b[39mcalled_without_tracing()\n",
      "File \u001b[0;32m~/.local/lib/python3.8/site-packages/tensorflow/python/eager/def_function.py:183\u001b[0m, in \u001b[0;36m_FrequentTracingDetectorManager._get_detector\u001b[0;34m(self, key)\u001b[0m\n\u001b[1;32m    181\u001b[0m \u001b[39mif\u001b[39;00m key \u001b[39mnot\u001b[39;00m \u001b[39min\u001b[39;00m \u001b[39mself\u001b[39m\u001b[39m.\u001b[39m_detectors:\n\u001b[1;32m    182\u001b[0m   \u001b[39mself\u001b[39m\u001b[39m.\u001b[39m_detectors[key] \u001b[39m=\u001b[39m _FrequentTracingDetector()\n\u001b[0;32m--> 183\u001b[0m \u001b[39mreturn\u001b[39;00m \u001b[39mself\u001b[39;49m\u001b[39m.\u001b[39;49m_detectors[key]\n",
      "File \u001b[0;32m/usr/lib/python3.8/weakref.py:382\u001b[0m, in \u001b[0;36mWeakKeyDictionary.__getitem__\u001b[0;34m(self, key)\u001b[0m\n\u001b[1;32m    379\u001b[0m     \u001b[39mself\u001b[39m\u001b[39m.\u001b[39m_dirty_len \u001b[39m=\u001b[39m \u001b[39mTrue\u001b[39;00m\n\u001b[1;32m    380\u001b[0m     \u001b[39mdel\u001b[39;00m \u001b[39mself\u001b[39m\u001b[39m.\u001b[39mdata[ref(key)]\n\u001b[0;32m--> 382\u001b[0m \u001b[39mdef\u001b[39;00m \u001b[39m__getitem__\u001b[39m(\u001b[39mself\u001b[39m, key):\n\u001b[1;32m    383\u001b[0m     \u001b[39mreturn\u001b[39;00m \u001b[39mself\u001b[39m\u001b[39m.\u001b[39mdata[ref(key)]\n\u001b[1;32m    385\u001b[0m \u001b[39mdef\u001b[39;00m \u001b[39m__len__\u001b[39m(\u001b[39mself\u001b[39m):\n",
      "\u001b[0;31mKeyboardInterrupt\u001b[0m: "
     ]
    }
   ],
   "source": [
    "loss = 'mean_squared_error'\n",
    "optimizer = tf.keras.optimizers.Adam(learning_rate = 1e-2)\n",
    "best_loss = 50.0\n",
    "n_fits = 1                       # Number of model fits we will try to perform\n",
    "n_epochs_initial = 10          # Number of epochs we will train inside the loop\n",
    "n_epochs_final = 10         # Number of epochs we will train after convergence is established\n",
    "successfull_tries = 0\n",
    "models = []\n",
    "\n",
    "model = Create_Similarity_Model(n_nonsimilar = n_nonsimilar, n_similar = n_similar)\n",
    "#model.summary()\n",
    "model.compile(loss = loss, optimizer = optimizer)\n",
    "model.fit(xtrain, ytrain, epochs = n_epochs_initial, verbose = 1)\n",
    "\n",
    "# while successfull_tries < n_fits:\n",
    "#     model = Create_Similarity_Model(n_nonsimilar = n_nonsimilar, n_similar = n_similar)\n",
    "#     model.compile(loss = loss, optimizer = optimizer)\n",
    "#     model.fit(xtrain, ytrain, epochs = n_epochs_initial, verbose = 0)\n",
    "#     current_loss = model.evaluate(xtrain, ytrain, verbose = 0)\n",
    "#     print(\"current loss:\" + str(current_loss))\n",
    "#     if current_loss < 12000:\n",
    "#         successfull_tries += 1\n",
    "#         model.fit(xtrain, ytrain, epochs = n_epochs_final, verbose = 0)\n",
    "#         good_loss = model.evaluate(xtrain, ytrain, verbose = 0)\n",
    "#         models.append(model)\n",
    "#         print(\"Iteration \" + str(successfull_tries) + \": current loss = \" + str(good_loss))\n",
    "#         if good_loss < best_loss:\n",
    "#             best_model = model\n",
    "#             best_loss = good_loss"
   ]
  },
  {
   "cell_type": "code",
   "execution_count": null,
   "metadata": {},
   "outputs": [],
   "source": [
    "good_loss = model.evaluate(xtrain, ytrain, verbose = 1)"
   ]
  },
  {
   "cell_type": "code",
   "execution_count": 6,
   "metadata": {},
   "outputs": [
    {
     "ename": "NameError",
     "evalue": "name 'best_model' is not defined",
     "output_type": "error",
     "traceback": [
      "\u001b[0;31m---------------------------------------------------------------------------\u001b[0m",
      "\u001b[0;31mNameError\u001b[0m                                 Traceback (most recent call last)",
      "\u001b[1;32m/home/gabriel/Projects Github/BarenNet/src/notebooks/BarenNet_toy_3nondimensional.ipynb Cell 6\u001b[0m in \u001b[0;36m<cell line: 13>\u001b[0;34m()\u001b[0m\n\u001b[1;32m     <a href='vscode-notebook-cell:/home/gabriel/Projects%20Github/BarenNet/src/notebooks/BarenNet_toy_3nondimensional.ipynb#W5sZmlsZQ%3D%3D?line=10'>11</a>\u001b[0m     j \u001b[39m+\u001b[39m\u001b[39m=\u001b[39m \u001b[39m1\u001b[39m\n\u001b[1;32m     <a href='vscode-notebook-cell:/home/gabriel/Projects%20Github/BarenNet/src/notebooks/BarenNet_toy_3nondimensional.ipynb#W5sZmlsZQ%3D%3D?line=12'>13</a>\u001b[0m \u001b[39mfor\u001b[39;00m i \u001b[39min\u001b[39;00m \u001b[39mrange\u001b[39m(n_nonsimilar):\n\u001b[0;32m---> <a href='vscode-notebook-cell:/home/gabriel/Projects%20Github/BarenNet/src/notebooks/BarenNet_toy_3nondimensional.ipynb#W5sZmlsZQ%3D%3D?line=13'>14</a>\u001b[0m     similarity_exponents \u001b[39m=\u001b[39m best_model\u001b[39m.\u001b[39mget_layer(\u001b[39m'\u001b[39m\u001b[39msimilarity_layer_\u001b[39m\u001b[39m'\u001b[39m \u001b[39m+\u001b[39m \u001b[39mstr\u001b[39m(i\u001b[39m+\u001b[39m\u001b[39m1\u001b[39m))\u001b[39m.\u001b[39mweights[\u001b[39m0\u001b[39m][\u001b[39m0\u001b[39m]\u001b[39m.\u001b[39mnumpy()\n\u001b[1;32m     <a href='vscode-notebook-cell:/home/gabriel/Projects%20Github/BarenNet/src/notebooks/BarenNet_toy_3nondimensional.ipynb#W5sZmlsZQ%3D%3D?line=14'>15</a>\u001b[0m     \u001b[39mprint\u001b[39m(\u001b[39m'\u001b[39m\u001b[39mExponents multiplicating inside the function for  best model: \u001b[39m\u001b[39m'\u001b[39m \u001b[39m+\u001b[39m nonsimilar_keys[i] \u001b[39m+\u001b[39m \u001b[39m'\u001b[39m\u001b[39m: \u001b[39m\u001b[39m'\u001b[39m \u001b[39m+\u001b[39m \u001b[39mstr\u001b[39m(similarity_exponents))\n\u001b[1;32m     <a href='vscode-notebook-cell:/home/gabriel/Projects%20Github/BarenNet/src/notebooks/BarenNet_toy_3nondimensional.ipynb#W5sZmlsZQ%3D%3D?line=16'>17</a>\u001b[0m multiplication_exponents \u001b[39m=\u001b[39m best_model\u001b[39m.\u001b[39mget_layer(\u001b[39m'\u001b[39m\u001b[39mmultiplication_layer\u001b[39m\u001b[39m'\u001b[39m)\u001b[39m.\u001b[39mweights[\u001b[39m0\u001b[39m][\u001b[39m0\u001b[39m]\u001b[39m.\u001b[39mnumpy()\n",
      "\u001b[0;31mNameError\u001b[0m: name 'best_model' is not defined"
     ]
    }
   ],
   "source": [
    "j = 0\n",
    "\n",
    "for model in models:\n",
    "\n",
    "    for i in range(n_nonsimilar):\n",
    "        similarity_exponents = model.get_layer('similarity_layer_' + str(i+1)).weights[0][0].numpy()\n",
    "        print('Exponents multiplicating inside the function for model ' + str(j) + ' in ' + nonsimilar_keys[i] + ': ' + str(similarity_exponents))\n",
    "\n",
    "    multiplication_exponents = model.get_layer('multiplication_layer').weights[0][0].numpy()\n",
    "    print('Exponents multiplicating outside the function for model ' + str(j) + ': '  + str(multiplication_exponents))\n",
    "    j += 1\n",
    "\n",
    "for i in range(n_nonsimilar):\n",
    "    similarity_exponents = best_model.get_layer('similarity_layer_' + str(i+1)).weights[0][0].numpy()\n",
    "    print('Exponents multiplicating inside the function for  best model: ' + nonsimilar_keys[i] + ': ' + str(similarity_exponents))\n",
    "\n",
    "multiplication_exponents = best_model.get_layer('multiplication_layer').weights[0][0].numpy()\n",
    "print('Exponents multiplicating outside the function for best model: '  + str(multiplication_exponents))"
   ]
  },
  {
   "cell_type": "code",
   "execution_count": 8,
   "metadata": {},
   "outputs": [
    {
     "name": "stdout",
     "output_type": "stream",
     "text": [
      "Exponents multiplicating inside the function for model 0 in r: [0.28505814]\n",
      "Exponents multiplicating inside the function for model 0 in He: [0.6912769]\n",
      "Exponents multiplicating outside the function for model 0: [-1.6544552]\n"
     ]
    }
   ],
   "source": [
    "for i in range(n_nonsimilar):\n",
    "    similarity_exponents = model.get_layer('similarity_layer_' + str(i+1)).weights[0][0].numpy()\n",
    "    print('Exponents multiplicating inside the function for model ' + str(j) + ' in ' + nonsimilar_keys[i] + ': ' + str(similarity_exponents))\n",
    "\n",
    "multiplication_exponents = model.get_layer('multiplication_layer').weights[0][0].numpy()\n",
    "print('Exponents multiplicating outside the function for model ' + str(j) + ': '  + str(multiplication_exponents))"
   ]
  },
  {
   "cell_type": "code",
   "execution_count": null,
   "metadata": {},
   "outputs": [],
   "source": []
  }
 ],
 "metadata": {
  "kernelspec": {
   "display_name": "Python 3.8.10 64-bit",
   "language": "python",
   "name": "python3"
  },
  "language_info": {
   "codemirror_mode": {
    "name": "ipython",
    "version": 3
   },
   "file_extension": ".py",
   "mimetype": "text/x-python",
   "name": "python",
   "nbconvert_exporter": "python",
   "pygments_lexer": "ipython3",
   "version": "3.8.10"
  },
  "orig_nbformat": 4,
  "vscode": {
   "interpreter": {
    "hash": "31f2aee4e71d21fbe5cf8b01ff0e069b9275f58929596ceb00d14d90e3e16cd6"
   }
  }
 },
 "nbformat": 4,
 "nbformat_minor": 2
}
