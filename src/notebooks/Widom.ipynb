{
 "cells": [
  {
   "cell_type": "code",
   "execution_count": 4,
   "id": "35bcaeea",
   "metadata": {},
   "outputs": [],
   "source": [
    "import numpy as np\n",
    "import matplotlib.pyplot as plt\n",
    "from sympy import *\n",
    "x, y, z, t, r, j, u = symbols('x y z t r j u')\n",
    "k, m, n = symbols('k m n', integer=True)\n",
    "f, g, h = symbols('f g h', cls=Function)\n",
    "\n",
    "#Equation for phi\n",
    "a=solve(r*z + u*z**3-j,z)\n",
    "#Equation for psi\n",
    "b=solve(x*t+u*t**3-1,t)\n"
   ]
  },
  {
   "cell_type": "code",
   "execution_count": 5,
   "id": "43ce71ba",
   "metadata": {},
   "outputs": [
    {
     "data": {
      "text/plain": [
       "[r/(u*(-27*j/(2*u) + sqrt(729*j**2/u**2 + 108*r**3/u**3)/2)**(1/3)) - (-27*j/(2*u) + sqrt(729*j**2/u**2 + 108*r**3/u**3)/2)**(1/3)/3,\n",
       " r/(u*(-1/2 - sqrt(3)*I/2)*(-27*j/(2*u) + sqrt(729*j**2/u**2 + 108*r**3/u**3)/2)**(1/3)) - (-1/2 - sqrt(3)*I/2)*(-27*j/(2*u) + sqrt(729*j**2/u**2 + 108*r**3/u**3)/2)**(1/3)/3,\n",
       " r/(u*(-1/2 + sqrt(3)*I/2)*(-27*j/(2*u) + sqrt(729*j**2/u**2 + 108*r**3/u**3)/2)**(1/3)) - (-1/2 + sqrt(3)*I/2)*(-27*j/(2*u) + sqrt(729*j**2/u**2 + 108*r**3/u**3)/2)**(1/3)/3]"
      ]
     },
     "execution_count": 5,
     "metadata": {},
     "output_type": "execute_result"
    }
   ],
   "source": [
    "a"
   ]
  },
  {
   "cell_type": "code",
   "execution_count": 6,
   "id": "dd16f398",
   "metadata": {},
   "outputs": [
    {
     "data": {
      "text/plain": [
       "[-(-1/2 - sqrt(3)*I/2)*(sqrt(729/u**2 + 108*x**3/u**3)/2 - 27/(2*u))**(1/3)/3 + x/(u*(-1/2 - sqrt(3)*I/2)*(sqrt(729/u**2 + 108*x**3/u**3)/2 - 27/(2*u))**(1/3)),\n",
       " -(-1/2 + sqrt(3)*I/2)*(sqrt(729/u**2 + 108*x**3/u**3)/2 - 27/(2*u))**(1/3)/3 + x/(u*(-1/2 + sqrt(3)*I/2)*(sqrt(729/u**2 + 108*x**3/u**3)/2 - 27/(2*u))**(1/3)),\n",
       " -(sqrt(729/u**2 + 108*x**3/u**3)/2 - 27/(2*u))**(1/3)/3 + x/(u*(sqrt(729/u**2 + 108*x**3/u**3)/2 - 27/(2*u))**(1/3))]"
      ]
     },
     "execution_count": 6,
     "metadata": {},
     "output_type": "execute_result"
    }
   ],
   "source": [
    "b"
   ]
  },
  {
   "cell_type": "code",
   "execution_count": 7,
   "id": "cc5cbd6e",
   "metadata": {},
   "outputs": [],
   "source": [
    "#Solution phi\n",
    "def L(r,j,u):\n",
    "    return r/(u*(-27*j/(2*u) + sqrt(729*j**2/u**2 + 108*r**3/u**3)/2)**(1/3)) - (-27*j/(2*u) + sqrt(729*j**2/u**2 + 108*r**3/u**3)/2)**(1/3)/3"
   ]
  },
  {
   "cell_type": "code",
   "execution_count": 8,
   "id": "4a21e2dc",
   "metadata": {},
   "outputs": [],
   "source": [
    "#Solution psi\n",
    "def H(x,u):\n",
    "    return  -(sqrt(729/u**2 + 108*x**3/u**3)/2 - 27/(2*u))**(1/3)/3 + x/(u*(sqrt(729/u**2 + 108*x**3/u**3)/2 - 27/(2*u))**(1/3))"
   ]
  },
  {
   "cell_type": "code",
   "execution_count": 9,
   "id": "322d0471",
   "metadata": {},
   "outputs": [],
   "source": [
    "#Define parameter u\n",
    "u=10"
   ]
  },
  {
   "cell_type": "code",
   "execution_count": 10,
   "id": "cb4d07a4",
   "metadata": {},
   "outputs": [],
   "source": [
    "#Setting variables r and j\n",
    "r=np.linspace(1,10,20)\n",
    "j=np.linspace(0.5,6,5)"
   ]
  },
  {
   "cell_type": "code",
   "execution_count": 11,
   "id": "78889e79",
   "metadata": {
    "scrolled": true
   },
   "outputs": [
    {
     "data": {
      "text/plain": [
       "Text(0.5, 1.0, 'Plot of $\\\\phi$ against r and several j')"
      ]
     },
     "execution_count": 11,
     "metadata": {},
     "output_type": "execute_result"
    },
    {
     "data": {
      "image/png": "[encoded data removed]",
      "text/plain": [
       "<Figure size 432x288 with 1 Axes>"
      ]
     },
     "metadata": {
      "needs_background": "light"
     },
     "output_type": "display_data"
    }
   ],
   "source": [
    "#Plot phi for different values of r and j (and fixed u)\n",
    "v=np.zeros(np.size(r))\n",
    "for m in range(np.size(j)):\n",
    "    for k in range(np.size(r)):\n",
    "        v[k]=L(r[k],j[m],u)\n",
    "    plt.plot(r,v,'o')\n",
    "\n",
    "    \n",
    "plt.xlabel('r')\n",
    "plt.ylabel('$\\phi$')\n",
    "plt.title('Plot of $\\phi$ against r and several j')\n",
    "    \n",
    "        "
   ]
  },
  {
   "cell_type": "code",
   "execution_count": 12,
   "id": "e8f701c8",
   "metadata": {},
   "outputs": [
    {
     "data": {
      "text/plain": [
       "Text(0.5, 1.0, 'Plot of $\\\\psi$ against renormalized r and several j')"
      ]
     },
     "execution_count": 12,
     "metadata": {},
     "output_type": "execute_result"
    },
    {
     "data": {
      "image/png": "[encoded data removed]",
      "text/plain": [
       "<Figure size 432x288 with 1 Axes>"
      ]
     },
     "metadata": {
      "needs_background": "light"
     },
     "output_type": "display_data"
    }
   ],
   "source": [
    "#Plot psi for different values of r and j (and fixed u)\n",
    "#Notice the collapsed curve\n",
    "v=np.zeros(np.size(r))\n",
    "for m in range(np.size(j)):\n",
    "    for k in range(np.size(r)):\n",
    "        v[k]=L(r[k],j[m],u)\n",
    "    plt.plot(r/(j[m]**(2/3)),v/(j[m]**(1/3)),'x')\n",
    "    \n",
    "plt.xlabel('r/j^{2/3}')\n",
    "plt.ylabel('$\\phi(r/j^{2/3})$')\n",
    "plt.title('Plot of $\\psi$ against renormalized r and several j')\n",
    "    "
   ]
  },
  {
   "cell_type": "code",
   "execution_count": 13,
   "id": "8fd01e11",
   "metadata": {},
   "outputs": [
    {
     "data": {
      "text/plain": [
       "Text(0.5, 1.0, 'Plot of $\\\\psi$')"
      ]
     },
     "execution_count": 13,
     "metadata": {},
     "output_type": "execute_result"
    },
    {
     "data": {
      "image/png": "[encoded data removed]",
      "text/plain": [
       "<Figure size 432x288 with 1 Axes>"
      ]
     },
     "metadata": {
      "needs_background": "light"
     },
     "output_type": "display_data"
    }
   ],
   "source": [
    "#Setting variable x\n",
    "x=np.linspace(1,20,100)\n",
    "#Plot of Psi for fixed b\n",
    "v=np.zeros(np.size(x))\n",
    "for k in range(np.size(x)):\n",
    "    v[k]=H(x[k],u)\n",
    "plt.plot(x,v)\n",
    "plt.xlabel('x')\n",
    "plt.ylabel('$\\psi(x)$')\n",
    "plt.title('Plot of $\\psi$')"
   ]
  },
  {
   "cell_type": "code",
   "execution_count": 20,
   "id": "8361a6c6",
   "metadata": {},
   "outputs": [
    {
     "data": {
      "text/plain": [
       "20.0"
      ]
     },
     "execution_count": 20,
     "metadata": {},
     "output_type": "execute_result"
    }
   ],
   "source": [
    "x[99]"
   ]
  },
  {
   "cell_type": "code",
   "execution_count": null,
   "id": "8fea74b9",
   "metadata": {},
   "outputs": [],
   "source": []
  }
 ],
 "metadata": {
  "kernelspec": {
   "display_name": "Python 3.8.10 64-bit",
   "language": "python",
   "name": "python3"
  },
  "language_info": {
   "codemirror_mode": {
    "name": "ipython",
    "version": 3
   },
   "file_extension": ".py",
   "mimetype": "text/x-python",
   "name": "python",
   "nbconvert_exporter": "python",
   "pygments_lexer": "ipython3",
   "version": "3.8.10"
  },
  "vscode": {
   "interpreter": {
    "hash": "31f2aee4e71d21fbe5cf8b01ff0e069b9275f58929596ceb00d14d90e3e16cd6"
   }
  }
 },
 "nbformat": 4,
 "nbformat_minor": 5
}
