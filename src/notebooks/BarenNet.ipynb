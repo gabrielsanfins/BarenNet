{
 "cells": [
  {
   "cell_type": "code",
   "execution_count": 2,
   "metadata": {},
   "outputs": [
    {
     "name": "stderr",
     "output_type": "stream",
     "text": [
      "2022-06-23 16:12:19.894361: W tensorflow/stream_executor/platform/default/dso_loader.cc:64] Could not load dynamic library 'libcudart.so.11.0'; dlerror: libcudart.so.11.0: cannot open shared object file: No such file or directory\n",
      "2022-06-23 16:12:19.894377: I tensorflow/stream_executor/cuda/cudart_stub.cc:29] Ignore above cudart dlerror if you do not have a GPU set up on your machine.\n"
     ]
    }
   ],
   "source": [
    "import os, sys\n",
    "\n",
    "module_path = os.path.abspath(os.path.join('..'))\n",
    "if module_path not in sys.path:\n",
    "  sys.path.append(module_path)\n",
    "\n",
    "from utils.utils import Create_Similarity_Model"
   ]
  },
  {
   "cell_type": "code",
   "execution_count": 4,
   "metadata": {},
   "outputs": [
    {
     "name": "stdout",
     "output_type": "stream",
     "text": [
      "Model: \"model_1\"\n",
      "__________________________________________________________________________________________________\n",
      " Layer (type)                   Output Shape         Param #     Connected to                     \n",
      "==================================================================================================\n",
      " input_2 (InputLayer)           [(None, 11)]         0           []                               \n",
      "                                                                                                  \n",
      " lambda_9 (Lambda)              (None, 7)            0           ['input_2[0][0]']                \n",
      "                                                                                                  \n",
      " lambda_10 (Lambda)             (None, 1)            0           ['input_2[0][0]']                \n",
      "                                                                                                  \n",
      " lambda_12 (Lambda)             (None, 1)            0           ['input_2[0][0]']                \n",
      "                                                                                                  \n",
      " lambda_14 (Lambda)             (None, 1)            0           ['input_2[0][0]']                \n",
      "                                                                                                  \n",
      " lambda_16 (Lambda)             (None, 1)            0           ['input_2[0][0]']                \n",
      "                                                                                                  \n",
      " dense_9 (Dense)                (None, 1)            7           ['lambda_9[0][0]']               \n",
      "                                                                                                  \n",
      " lambda_11 (Lambda)             (None, 1)            0           ['lambda_10[0][0]']              \n",
      "                                                                                                  \n",
      " dense_10 (Dense)               (None, 1)            7           ['lambda_9[0][0]']               \n",
      "                                                                                                  \n",
      " lambda_13 (Lambda)             (None, 1)            0           ['lambda_12[0][0]']              \n",
      "                                                                                                  \n",
      " dense_11 (Dense)               (None, 1)            7           ['lambda_9[0][0]']               \n",
      "                                                                                                  \n",
      " lambda_15 (Lambda)             (None, 1)            0           ['lambda_14[0][0]']              \n",
      "                                                                                                  \n",
      " dense_12 (Dense)               (None, 1)            7           ['lambda_9[0][0]']               \n",
      "                                                                                                  \n",
      " lambda_17 (Lambda)             (None, 1)            0           ['lambda_16[0][0]']              \n",
      "                                                                                                  \n",
      " multiply_5 (Multiply)          (None, 1)            0           ['dense_9[0][0]',                \n",
      "                                                                  'lambda_11[0][0]']              \n",
      "                                                                                                  \n",
      " multiply_6 (Multiply)          (None, 1)            0           ['dense_10[0][0]',               \n",
      "                                                                  'lambda_13[0][0]']              \n",
      "                                                                                                  \n",
      " multiply_7 (Multiply)          (None, 1)            0           ['dense_11[0][0]',               \n",
      "                                                                  'lambda_15[0][0]']              \n",
      "                                                                                                  \n",
      " multiply_8 (Multiply)          (None, 1)            0           ['dense_12[0][0]',               \n",
      "                                                                  'lambda_17[0][0]']              \n",
      "                                                                                                  \n",
      " concatenate_1 (Concatenate)    (None, 4)            0           ['multiply_5[0][0]',             \n",
      "                                                                  'multiply_6[0][0]',             \n",
      "                                                                  'multiply_7[0][0]',             \n",
      "                                                                  'multiply_8[0][0]']             \n",
      "                                                                                                  \n",
      " dense_13 (Dense)               (None, 128)          640         ['concatenate_1[0][0]']          \n",
      "                                                                                                  \n",
      " dense_14 (Dense)               (None, 64)           8256        ['dense_13[0][0]']               \n",
      "                                                                                                  \n",
      " dense_15 (Dense)               (None, 32)           2080        ['dense_14[0][0]']               \n",
      "                                                                                                  \n",
      " dense_16 (Dense)               (None, 1)            33          ['dense_15[0][0]']               \n",
      "                                                                                                  \n",
      " dense_17 (Dense)               (None, 1)            7           ['lambda_9[0][0]']               \n",
      "                                                                                                  \n",
      " multiply_9 (Multiply)          (None, 1)            0           ['dense_16[0][0]',               \n",
      "                                                                  'dense_17[0][0]']               \n",
      "                                                                                                  \n",
      "==================================================================================================\n",
      "Total params: 11,044\n",
      "Trainable params: 11,044\n",
      "Non-trainable params: 0\n",
      "__________________________________________________________________________________________________\n"
     ]
    }
   ],
   "source": [
    "n_nonsimilar = 4\n",
    "n_similar = 7\n",
    "\n",
    "### We will look for similarity in the last n_similar parameters of the inputs.\n",
    "\n",
    "model = Create_Similarity_Model(n_nonsimilar = n_nonsimilar, n_similar = n_similar)"
   ]
  }
 ],
 "metadata": {
  "interpreter": {
   "hash": "916dbcbb3f70747c44a77c7bcd40155683ae19c65e1c03b4aa3499c5328201f1"
  },
  "kernelspec": {
   "display_name": "Python 3.8.10 64-bit",
   "language": "python",
   "name": "python3"
  },
  "language_info": {
   "codemirror_mode": {
    "name": "ipython",
    "version": 3
   },
   "file_extension": ".py",
   "mimetype": "text/x-python",
   "name": "python",
   "nbconvert_exporter": "python",
   "pygments_lexer": "ipython3",
   "version": "3.8.10"
  },
  "orig_nbformat": 4
 },
 "nbformat": 4,
 "nbformat_minor": 2
}
