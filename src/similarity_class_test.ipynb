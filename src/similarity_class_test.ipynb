{
 "cells": [
  {
   "cell_type": "code",
   "execution_count": 3,
   "metadata": {},
   "outputs": [],
   "source": [
    "from barennet import SimilarityModel"
   ]
  },
  {
   "cell_type": "code",
   "execution_count": null,
   "metadata": {},
   "outputs": [],
   "source": [
    "# First we will prepare the inputs for the similarity model class.\n",
    "\n",
    "data_path = \"./\"\n",
    "dimensionally_independent_parameters = [\"mu\", \"rho\", \"D\"]\n",
    "dimensionally_dependent_parameters = [\"tau_y\", \"- dp/dz\"]\n",
    "dimensional_qoi = \"f\"\n",
    "non_dimensional_qoi = \"f\"\n",
    "non_dimensional_params_construction = { \n",
    "    \"Re_tau\": {}, \n",
    "    \"He\": {\"tau_y\": 1, \"mu\": -2, \"rho\": 1, \"D\": 2}}"
   ]
  }
 ],
 "metadata": {
  "kernelspec": {
   "display_name": "Python 3",
   "language": "python",
   "name": "python3"
  },
  "language_info": {
   "codemirror_mode": {
    "name": "ipython",
    "version": 3
   },
   "file_extension": ".py",
   "mimetype": "text/x-python",
   "name": "python",
   "nbconvert_exporter": "python",
   "pygments_lexer": "ipython3",
   "version": "3.8.10"
  },
  "orig_nbformat": 4
 },
 "nbformat": 4,
 "nbformat_minor": 2
}
