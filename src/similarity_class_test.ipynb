{
 "cells": [
  {
   "cell_type": "code",
   "execution_count": 1,
   "metadata": {},
   "outputs": [],
   "source": [
    "from similarity_model import SimilarityModel"
   ]
  },
  {
   "cell_type": "code",
   "execution_count": 2,
   "metadata": {},
   "outputs": [],
   "source": [
    "# First we will prepare the inputs for the similarity model class.\n",
    "\n",
    "data_path = \"./\"\n",
    "dimensionally_independent_parameters = [\"mu\", \"rho\", \"D\"]\n",
    "dimensionally_dependent_parameters = [\"tau_y\", \"- dp/dz\"]\n",
    "dimensional_qoi = [\"f\"]\n",
    "non_dimensional_qoi = [\"f\"]\n",
    "non_dimensional_params_construction = { \n",
    "    \"Re_tau\": {\"- dp/dz\": 1/2, \"mu\": -1, \"rho\": 0.5, \"D\": 3/2}, \n",
    "    \"He\": {\"tau_y\": 1, \"mu\": -2, \"rho\": 1, \"D\": 2}\n",
    "}\n",
    "non_dimensional_qoi_construction = {\n",
    "    \"f\": {\"f\": 1, \"mu\": 0, \"rho\": 0, \"D\": 0}\n",
    "}\n",
    "non_similar_params = [\"Re_tau\"]\n",
    "similar_params = [\"He\"]"
   ]
  },
  {
   "cell_type": "code",
   "execution_count": 3,
   "metadata": {},
   "outputs": [],
   "source": [
    "similarity_model = SimilarityModel(\n",
    "    data_path=data_path,\n",
    "    dimensionally_independent_params=dimensionally_independent_parameters,\n",
    "    dimensionally_dependent_params=dimensionally_dependent_parameters,\n",
    "    dimensional_qoi=dimensional_qoi,\n",
    "    non_dimensional_qoi=non_dimensional_qoi,\n",
    "    non_dimensional_params_construction=non_dimensional_params_construction,\n",
    "    non_dimesional_qoi_construction=non_dimensional_qoi_construction,\n",
    "    non_similar_params=non_similar_params,\n",
    "    similar_params=similar_params\n",
    ")"
   ]
  },
  {
   "cell_type": "code",
   "execution_count": 4,
   "metadata": {},
   "outputs": [
    {
     "data": {
      "text/plain": [
       "{'- dp/dz': {'mu': 2.0, 'rho': -1.0, 'D': -3.0},\n",
       " 'tau_y': {'mu': 2.0, 'rho': -1.0, 'D': -2.0},\n",
       " 'f': {'mu': 0.0, 'rho': 0.0, 'D': 0.0}}"
      ]
     },
     "execution_count": 4,
     "metadata": {},
     "output_type": "execute_result"
    }
   ],
   "source": [
    "similarity_model.buckingham_similarity_group"
   ]
  },
  {
   "cell_type": "code",
   "execution_count": 5,
   "metadata": {},
   "outputs": [
    {
     "name": "stdout",
     "output_type": "stream",
     "text": [
      "mu* = A_1 mu\n",
      "rho* = A_2 rho\n",
      "D* = A_3 D\n",
      "tau_y* = A_1^{2.0} A_2^{-1.0} A_3^{-2.0} tau_y\n",
      "- dp/dz* = A_1^{2.0} A_2^{-1.0} A_3^{-3.0} - dp/dz\n",
      "f* = A_1^{0.0} A_2^{0.0} A_3^{0.0} f\n"
     ]
    }
   ],
   "source": [
    "similarity_model.print_buckingham_similarity_group()"
   ]
  },
  {
   "cell_type": "code",
   "execution_count": null,
   "metadata": {},
   "outputs": [],
   "source": []
  }
 ],
 "metadata": {
  "kernelspec": {
   "display_name": "Python 3",
   "language": "python",
   "name": "python3"
  },
  "language_info": {
   "codemirror_mode": {
    "name": "ipython",
    "version": 3
   },
   "file_extension": ".py",
   "mimetype": "text/x-python",
   "name": "python",
   "nbconvert_exporter": "python",
   "pygments_lexer": "ipython3",
   "version": "3.8.10"
  },
  "orig_nbformat": 4
 },
 "nbformat": 4,
 "nbformat_minor": 2
}
