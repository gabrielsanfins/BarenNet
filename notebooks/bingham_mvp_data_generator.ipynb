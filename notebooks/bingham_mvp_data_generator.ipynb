{
 "cells": [
  {
   "cell_type": "code",
   "execution_count": 5,
   "metadata": {},
   "outputs": [],
   "source": [
    "import numpy as np\n",
    "import random\n",
    "import pandas as pd"
   ]
  },
  {
   "cell_type": "code",
   "execution_count": 6,
   "metadata": {},
   "outputs": [],
   "source": [
    "possible_re_tau = np.linspace(start = 10, stop = 100, num = 100)\n",
    "possible_he = np.linspace(start = 10, stop = 100, num = 100)"
   ]
  },
  {
   "cell_type": "code",
   "execution_count": 7,
   "metadata": {},
   "outputs": [],
   "source": [
    "U_ = []\n",
    "R_ = []\n",
    "He_ = []\n",
    "Re_tau = []\n",
    "\n",
    "for re_tau in possible_re_tau:\n",
    "    for he in possible_he:\n",
    "        possible_r = np.linspace(start = he / (re_tau**2), stop = 1, num = 100)\n",
    "        for r in possible_r:\n",
    "            u_ = ((re_tau / 4) * (1 - (r ** 2))) - ((1 - r) * (he / re_tau) / 2)\n",
    "            if u_ > 0:\n",
    "                U_.append(u_)\n",
    "                R_.append(r)\n",
    "                He_.append(he)\n",
    "                Re_tau.append(re_tau)\n",
    "\n",
    "c = list(zip(R_, He_, Re_tau, U_))\n",
    "random.shuffle(c)\n",
    "R_, He_, Re_tau, U_= zip(*c)"
   ]
  },
  {
   "cell_type": "code",
   "execution_count": 9,
   "metadata": {},
   "outputs": [],
   "source": [
    "data_dic = {}\n",
    "\n",
    "data_dic[\"u+\"] = U_\n",
    "data_dic[\"r^\"] = R_\n",
    "data_dic[\"He\"] = He_\n",
    "data_dic[\"Re_tau\"] = Re_tau\n",
    "\n",
    "data_df = pd.DataFrame.from_dict(data_dic)\n",
    "data_df.to_excel(\"Bingham MVP Data.xlsx\")"
   ]
  },
  {
   "cell_type": "code",
   "execution_count": null,
   "metadata": {},
   "outputs": [],
   "source": []
  }
 ],
 "metadata": {
  "kernelspec": {
   "display_name": "Python 3",
   "language": "python",
   "name": "python3"
  },
  "language_info": {
   "codemirror_mode": {
    "name": "ipython",
    "version": 3
   },
   "file_extension": ".py",
   "mimetype": "text/x-python",
   "name": "python",
   "nbconvert_exporter": "python",
   "pygments_lexer": "ipython3",
   "version": "3.8.10"
  }
 },
 "nbformat": 4,
 "nbformat_minor": 2
}
