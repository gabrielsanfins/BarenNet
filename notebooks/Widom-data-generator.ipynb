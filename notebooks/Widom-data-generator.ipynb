{
 "cells": [
  {
   "cell_type": "markdown",
   "id": "a483e9dc",
   "metadata": {},
   "source": [
    "# This notebook generates LG data for widom scaling"
   ]
  },
  {
   "cell_type": "code",
   "execution_count": 1,
   "id": "b36f7665",
   "metadata": {},
   "outputs": [],
   "source": [
    "import numpy as np\n",
    "import pandas as pd\n",
    "import matplotlib.pyplot as plt\n",
    "from sympy import *\n",
    "x, z, t, r, j, u = symbols('x z t r j u')"
   ]
  },
  {
   "cell_type": "markdown",
   "id": "3c1be65d",
   "metadata": {},
   "source": [
    "### Setup domain for $r$ and $j$"
   ]
  },
  {
   "cell_type": "code",
   "execution_count": 2,
   "id": "5f457ca1",
   "metadata": {},
   "outputs": [],
   "source": [
    "#Amount of r points\n",
    "Nr=30\n",
    "#Amount of j points\n",
    "Nj=5\n",
    "#Minimum for r points\n",
    "mr=0.01\n",
    "#Maximum for r points\n",
    "Mr=20\n",
    "#Minimum for j points\n",
    "mj=0.1\n",
    "#Maximum for j points\n",
    "Mj=1"
   ]
  },
  {
   "cell_type": "code",
   "execution_count": 3,
   "id": "d4875e05",
   "metadata": {},
   "outputs": [],
   "source": [
    "#Equation for phi\n",
    "a=solve(r*z + u*z**3-j,z)\n",
    "#Equation for psi\n",
    "b=solve(x*t+u*t**3-1,t)\n"
   ]
  },
  {
   "cell_type": "markdown",
   "id": "2295eb9b",
   "metadata": {},
   "source": [
    "### Setup parameter u"
   ]
  },
  {
   "cell_type": "code",
   "execution_count": 4,
   "id": "59684bd3",
   "metadata": {},
   "outputs": [],
   "source": [
    "#Define parameter u\n",
    "u=10"
   ]
  },
  {
   "cell_type": "markdown",
   "id": "35afe90e",
   "metadata": {},
   "source": [
    "### Find explicit expression for $\\phi$ and $\\psi$"
   ]
  },
  {
   "cell_type": "code",
   "execution_count": 5,
   "id": "65065bb6",
   "metadata": {},
   "outputs": [
    {
     "data": {
      "text/plain": [
       "[r/(u*(-27*j/(2*u) + sqrt(729*j**2/u**2 + 108*r**3/u**3)/2)**(1/3)) - (-27*j/(2*u) + sqrt(729*j**2/u**2 + 108*r**3/u**3)/2)**(1/3)/3,\n",
       " r/(u*(-1/2 - sqrt(3)*I/2)*(-27*j/(2*u) + sqrt(729*j**2/u**2 + 108*r**3/u**3)/2)**(1/3)) - (-1/2 - sqrt(3)*I/2)*(-27*j/(2*u) + sqrt(729*j**2/u**2 + 108*r**3/u**3)/2)**(1/3)/3,\n",
       " r/(u*(-1/2 + sqrt(3)*I/2)*(-27*j/(2*u) + sqrt(729*j**2/u**2 + 108*r**3/u**3)/2)**(1/3)) - (-1/2 + sqrt(3)*I/2)*(-27*j/(2*u) + sqrt(729*j**2/u**2 + 108*r**3/u**3)/2)**(1/3)/3]"
      ]
     },
     "execution_count": 5,
     "metadata": {},
     "output_type": "execute_result"
    }
   ],
   "source": [
    "#all roots for phi (We need the real one)\n",
    "a"
   ]
  },
  {
   "cell_type": "code",
   "execution_count": 6,
   "id": "b3d54c4c",
   "metadata": {},
   "outputs": [
    {
     "data": {
      "text/plain": [
       "[-(-1/2 - sqrt(3)*I/2)*(sqrt(729/u**2 + 108*x**3/u**3)/2 - 27/(2*u))**(1/3)/3 + x/(u*(-1/2 - sqrt(3)*I/2)*(sqrt(729/u**2 + 108*x**3/u**3)/2 - 27/(2*u))**(1/3)),\n",
       " -(-1/2 + sqrt(3)*I/2)*(sqrt(729/u**2 + 108*x**3/u**3)/2 - 27/(2*u))**(1/3)/3 + x/(u*(-1/2 + sqrt(3)*I/2)*(sqrt(729/u**2 + 108*x**3/u**3)/2 - 27/(2*u))**(1/3)),\n",
       " -(sqrt(729/u**2 + 108*x**3/u**3)/2 - 27/(2*u))**(1/3)/3 + x/(u*(sqrt(729/u**2 + 108*x**3/u**3)/2 - 27/(2*u))**(1/3))]"
      ]
     },
     "execution_count": 6,
     "metadata": {},
     "output_type": "execute_result"
    }
   ],
   "source": [
    "#all roots for psi (We need the real one)\n",
    "b"
   ]
  },
  {
   "cell_type": "code",
   "execution_count": 7,
   "id": "27cde716",
   "metadata": {},
   "outputs": [],
   "source": [
    "#Definition phi\n",
    "def phi(r,j,u):\n",
    "    return r/(u*(-27*j/(2*u) + sqrt(729*j**2/u**2 + 108*r**3/u**3)/2)**(1/3)) - (-27*j/(2*u) + sqrt(729*j**2/u**2 + 108*r**3/u**3)/2)**(1/3)/3"
   ]
  },
  {
   "cell_type": "code",
   "execution_count": 8,
   "id": "6bd0d119",
   "metadata": {},
   "outputs": [],
   "source": [
    "#Definition psi\n",
    "def psi(x,u):\n",
    "    return  -(sqrt(729/u**2 + 108*x**3/u**3)/2 - 27/(2*u))**(1/3)/3 + x/(u*(sqrt(729/u**2 + 108*x**3/u**3)/2 - 27/(2*u))**(1/3))"
   ]
  },
  {
   "cell_type": "markdown",
   "id": "16282a85",
   "metadata": {},
   "source": [
    "### Plotting $\\phi$ and $\\psi$"
   ]
  },
  {
   "cell_type": "code",
   "execution_count": 9,
   "id": "3ad3197d",
   "metadata": {},
   "outputs": [],
   "source": [
    "#Setting variables r and j\n",
    "r=np.linspace(mr,Mr,Nr)\n",
    "j=np.linspace(mj,Mj,Nj)"
   ]
  },
  {
   "cell_type": "code",
   "execution_count": 10,
   "id": "0cfa0ca1",
   "metadata": {
    "scrolled": true
   },
   "outputs": [
    {
     "data": {
      "text/plain": [
       "Text(0.5, 1.0, 'Plot of $\\\\phi$ against r and several j')"
      ]
     },
     "execution_count": 10,
     "metadata": {},
     "output_type": "execute_result"
    },
    {
     "data": {
      "image/png": "[encoded data removed]",
      "text/plain": [
       "<Figure size 432x288 with 1 Axes>"
      ]
     },
     "metadata": {
      "needs_background": "light"
     },
     "output_type": "display_data"
    }
   ],
   "source": [
    "#Plot phi for different values of r and j (and fixed u)\n",
    "v=np.zeros(np.size(r))\n",
    "curves_data=np.zeros((np.size(r),np.size(j)))\n",
    "for m in range(np.size(j)):\n",
    "    for k in range(np.size(r)):\n",
    "        curves_data[k,m]=phi(r[k],j[m],u)\n",
    "    plt.plot(r,curves_data[:,m],'o')\n",
    "\n",
    "    \n",
    "plt.xlabel('r')\n",
    "plt.ylabel('$\\phi$')\n",
    "plt.title('Plot of $\\phi$ against r and several j')\n",
    "    \n",
    "        "
   ]
  },
  {
   "cell_type": "code",
   "execution_count": 11,
   "id": "40af3386",
   "metadata": {},
   "outputs": [
    {
     "data": {
      "text/plain": [
       "Text(0.5, 1.0, 'Plot of $(z,\\\\psi(z))$ and renormalized $(r/j^{2/3},\\\\phi/j^{1/3})$')"
      ]
     },
     "execution_count": 11,
     "metadata": {},
     "output_type": "execute_result"
    },
    {
     "data": {
      "image/png": "[encoded data removed]",
      "text/plain": [
       "<Figure size 432x288 with 1 Axes>"
      ]
     },
     "metadata": {
      "needs_background": "light"
     },
     "output_type": "display_data"
    }
   ],
   "source": [
    "#Plot of renormalized phi for different values of r and j (and fixed u)\n",
    "#Notice the collapsed curve\n",
    "for m in range(np.size(j)):\n",
    "    plt.plot(r/(j[m]**(2/3)),curves_data[:,m]/(j[m]**(1/3)),'x')\n",
    "    \n",
    "x=np.linspace(0,r[-1]/j[0]**(2/3),100)\n",
    "\n",
    "#Plot of Psi for fixed b\n",
    "v=np.zeros(np.size(x))\n",
    "for k in range(np.size(x)):\n",
    "    v[k]=psi(x[k],u)\n",
    "plt.plot(x,v)\n",
    "plt.xlabel('r/j^{2/3}')\n",
    "plt.ylabel('$\\phi(r/j^{2/3})$')\n",
    "plt.title('Plot of $(z,\\psi(z))$ and renormalized $(r/j^{2/3},\\phi/j^{1/3})$')\n",
    "    "
   ]
  },
  {
   "cell_type": "markdown",
   "id": "f0d68dd9",
   "metadata": {},
   "source": [
    "### Saving dataframe to dphi_u.xslx"
   ]
  },
  {
   "cell_type": "markdown",
   "id": "d134e963",
   "metadata": {},
   "source": [
    "###### underline in name stores the value for parameter u"
   ]
  },
  {
   "cell_type": "code",
   "execution_count": 18,
   "id": "e33092b2",
   "metadata": {},
   "outputs": [
    {
     "name": "stdout",
     "output_type": "stream",
     "text": [
      "['j = 0.1', 'j = 0.325', 'j = 0.55', 'j = 0.775', 'j = 1.0']\n"
     ]
    },
    {
     "data": {
      "text/html": [
       "<div>\n",
       "<style scoped>\n",
       "    .dataframe tbody tr th:only-of-type {\n",
       "        vertical-align: middle;\n",
       "    }\n",
       "\n",
       "    .dataframe tbody tr th {\n",
       "        vertical-align: top;\n",
       "    }\n",
       "\n",
       "    .dataframe thead th {\n",
       "        text-align: right;\n",
       "    }\n",
       "</style>\n",
       "<table border=\"1\" class=\"dataframe\">\n",
       "  <thead>\n",
       "    <tr style=\"text-align: right;\">\n",
       "      <th></th>\n",
       "      <th>j = 0.1</th>\n",
       "      <th>j = 0.325</th>\n",
       "      <th>j = 0.55</th>\n",
       "      <th>j = 0.775</th>\n",
       "      <th>j = 1.0</th>\n",
       "    </tr>\n",
       "  </thead>\n",
       "  <tbody>\n",
       "    <tr>\n",
       "      <th>0</th>\n",
       "      <td>0.213896</td>\n",
       "      <td>0.318081</td>\n",
       "      <td>0.379419</td>\n",
       "      <td>0.425569</td>\n",
       "      <td>0.463441</td>\n",
       "    </tr>\n",
       "    <tr>\n",
       "      <th>1</th>\n",
       "      <td>0.118938</td>\n",
       "      <td>0.247623</td>\n",
       "      <td>0.319613</td>\n",
       "      <td>0.372014</td>\n",
       "      <td>0.414155</td>\n",
       "    </tr>\n",
       "    <tr>\n",
       "      <th>2</th>\n",
       "      <td>0.069587</td>\n",
       "      <td>0.186974</td>\n",
       "      <td>0.263829</td>\n",
       "      <td>0.320663</td>\n",
       "      <td>0.366275</td>\n",
       "    </tr>\n",
       "    <tr>\n",
       "      <th>3</th>\n",
       "      <td>0.047606</td>\n",
       "      <td>0.142485</td>\n",
       "      <td>0.216112</td>\n",
       "      <td>0.273986</td>\n",
       "      <td>0.321430</td>\n",
       "    </tr>\n",
       "    <tr>\n",
       "      <th>4</th>\n",
       "      <td>0.035969</td>\n",
       "      <td>0.112324</td>\n",
       "      <td>0.178278</td>\n",
       "      <td>0.233850</td>\n",
       "      <td>0.281102</td>\n",
       "    </tr>\n",
       "  </tbody>\n",
       "</table>\n",
       "</div>"
      ],
      "text/plain": [
       "    j = 0.1  j = 0.325  j = 0.55  j = 0.775   j = 1.0\n",
       "0  0.213896   0.318081  0.379419   0.425569  0.463441\n",
       "1  0.118938   0.247623  0.319613   0.372014  0.414155\n",
       "2  0.069587   0.186974  0.263829   0.320663  0.366275\n",
       "3  0.047606   0.142485  0.216112   0.273986  0.321430\n",
       "4  0.035969   0.112324  0.178278   0.233850  0.281102"
      ]
     },
     "execution_count": 18,
     "metadata": {},
     "output_type": "execute_result"
    }
   ],
   "source": [
    "## convert your array into a dataframe\n",
    "#columns -> j\n",
    "#rows -> r\n",
    "keys = ['j = ' + str(j_value) for j_value in j]\n",
    "print(keys)\n",
    "\n",
    "dphi = pd.DataFrame(curves_data, columns = keys)\n",
    "dphi.head()"
   ]
  },
  {
   "cell_type": "code",
   "execution_count": 19,
   "id": "c6fd7480",
   "metadata": {},
   "outputs": [],
   "source": [
    "## save to xlsx file\n",
    "#underline in name stores the value for parameter u\n",
    "\n",
    "filepath = '../../Data/Generated Widom Data/dphi_'+str(u)+'.xlsx'\n",
    "\n",
    "dphi.to_excel(filepath, index=False)"
   ]
  },
  {
   "cell_type": "markdown",
   "id": "29f8fbde",
   "metadata": {},
   "source": [
    "## Multifidelity"
   ]
  },
  {
   "cell_type": "code",
   "execution_count": 119,
   "id": "d316b273",
   "metadata": {},
   "outputs": [],
   "source": [
    "import GPy\n",
    "import emukit.multi_fidelity\n",
    "import emukit.test_functions\n",
    "from emukit.model_wrappers.gpy_model_wrappers import GPyMultiOutputWrapper\n",
    "from emukit.multi_fidelity.models import GPyLinearMultiFidelityModel\n",
    "from emukit.multi_fidelity.convert_lists_to_array import convert_x_list_to_array, convert_xy_lists_to_arrays\n",
    "import mlai.plot as plot\n",
    "import mlai"
   ]
  },
  {
   "cell_type": "code",
   "execution_count": 124,
   "id": "c2778efc",
   "metadata": {},
   "outputs": [
    {
     "data": {
      "text/plain": [
       "Text(0.5, 1.0, 'Plot of $\\\\phi$ against r and several j')"
      ]
     },
     "execution_count": 124,
     "metadata": {},
     "output_type": "execute_result"
    },
    {
     "data": {
      "image/png": "[encoded data removed]",
      "text/plain": [
       "<Figure size 432x288 with 1 Axes>"
      ]
     },
     "metadata": {
      "needs_background": "light"
     },
     "output_type": "display_data"
    }
   ],
   "source": [
    "#Setting variables r and j\n",
    "#r=np.linspace(1,10,20)\n",
    "#j=np.linspace(0.5,6,5)\n",
    "\n",
    "#Plot phi for different values of r and j (and fixed u)\n",
    "#v=np.zeros(np.size(r))\n",
    "LF=np.zeros(np.size(r))\n",
    "HF=np.zeros(np.size(r))\n",
    "MF=np.zeros(np.size(r))\n",
    "\n",
    "#for m in range(np.size(j)):\n",
    "#    for k in range(np.size(r)):\n",
    "#        v[k]=phi(r[k],j[m],u)\n",
    "\n",
    "\n",
    "jlf1=1\n",
    "jlf2=2\n",
    "jhf=3\n",
    "\n",
    "LF=curves_data[:,jlf1]\n",
    "\n",
    "MF=curves_data[:,jlf2]\n",
    "\n",
    "\n",
    "HF=curves_data[:,jhf]\n",
    "#MF=v.copy()\n",
    "\n",
    "#HF=v.copy()    \n",
    "\n",
    "plt.plot(r,LF,'o')\n",
    "plt.plot(r,MF,'o')\n",
    "plt.plot(r,HF,'o')\n",
    "\n",
    "    \n",
    "plt.xlabel('r')\n",
    "plt.ylabel('$\\phi$')\n",
    "plt.title('Plot of $\\phi$ against r and several j')"
   ]
  },
  {
   "cell_type": "code",
   "execution_count": 133,
   "id": "18eb4e2c",
   "metadata": {},
   "outputs": [],
   "source": [
    "\n",
    "Tl1=[1,3,6,7,13,15,19,20,23]\n",
    "Tl2=[1,3,7,13,15,20,23]\n",
    "\n",
    "Th=[1,6,23]\n",
    "\n",
    "rmax=r[np.max([Tl1[-1],Tl2[-1],Th[-1]])]\n",
    "rmin=r[np.min([Tl1[0],Tl2[0],Th[0]])]\n",
    "\n",
    "x_train_l1 = r[Tl1, np.newaxis]\n",
    "y_train_l1 = LF[Tl1, np.newaxis]\n",
    "\n",
    "x_train_l2 = r[Tl2, np.newaxis]\n",
    "y_train_l2 = MF[Tl2, np.newaxis]\n",
    "\n",
    "x_train_h = r[Th, np.newaxis]\n",
    "y_train_h = HF[Th, np.newaxis]\n",
    "\n",
    "\n",
    "X_train, Y_train = convert_xy_lists_to_arrays([x_train_l1, x_train_l2, x_train_h], [y_train_l1, y_train_l2, y_train_h])\n",
    "\n",
    "x_plot = np.linspace(0, rmax, 200)[:, np.newaxis]\n",
    "X_plot = convert_x_list_to_array([x_plot, x_plot, x_plot])\n",
    "X_plot_l1 = X_plot[:200]\n",
    "X_plot_l2 = X_plot[200:400]\n",
    "X_plot_h = X_plot[400:]\n"
   ]
  },
  {
   "cell_type": "code",
   "execution_count": 134,
   "id": "739beea3",
   "metadata": {},
   "outputs": [
    {
     "name": "stderr",
     "output_type": "stream",
     "text": [
      " /usr/local/lib/python3.9/site-packages/paramz/transformations.py:111: RuntimeWarning:divide by zero encountered in log\n"
     ]
    },
    {
     "name": "stdout",
     "output_type": "stream",
     "text": [
      "Optimization restart 1/5, f = -14.748062083716512\n",
      "Optimization restart 2/5, f = -14.748062083679233\n",
      "Optimization restart 3/5, f = -14.748062083717677\n",
      "Optimization restart 4/5, f = -14.7480620837122\n",
      "Optimization restart 5/5, f = -14.748062083710717\n",
      "Optimization restart 1/5, f = -9.221002981215015\n",
      "Optimization restart 2/5, f = -9.221002930765042\n",
      "Optimization restart 3/5, f = -9.2210026611199\n",
      "Optimization restart 4/5, f = -13.83487505686303\n"
     ]
    },
    {
     "name": "stderr",
     "output_type": "stream",
     "text": [
      " /usr/local/lib/python3.9/site-packages/GPy/kern/src/stationary.py:168: RuntimeWarning:overflow encountered in true_divide\n",
      " /usr/local/lib/python3.9/site-packages/GPy/kern/src/rbf.py:52: RuntimeWarning:overflow encountered in square\n",
      " /usr/local/lib/python3.9/site-packages/GPy/kern/src/rbf.py:76: RuntimeWarning:invalid value encountered in multiply\n"
     ]
    },
    {
     "name": "stdout",
     "output_type": "stream",
     "text": [
      "Optimization restart 5/5, f = -22.717740054671744\n",
      "Optimization restart 1/5, f = -0.5240362483188461\n",
      "Optimization restart 2/5, f = -0.5240362568406867\n",
      "Optimization restart 3/5, f = -2.1555749486571165\n",
      "Optimization restart 4/5, f = -0.5240361030052616\n",
      "Optimization restart 5/5, f = -0.5240350345205809\n"
     ]
    }
   ],
   "source": [
    "#Create nonlinear model.\n",
    "\n",
    "from emukit.multi_fidelity.models.non_linear_multi_fidelity_model import make_non_linear_kernels, NonLinearMultiFidelityModel\n",
    "base_kernel = GPy.kern.RBF\n",
    "kernels = make_non_linear_kernels(base_kernel, 3, X_train.shape[1] - 1)\n",
    "nonlin_mf_model = NonLinearMultiFidelityModel(X_train, Y_train, n_fidelities=3, kernels=kernels, \n",
    "                                              verbose=True, optimization_restarts=5)\n",
    "for m in nonlin_mf_model.models:\n",
    "    m.Gaussian_noise.variance.fix(0)\n",
    "nonlin_mf_model.optimize()\n",
    "#Now we compute the mean and variance predictions\n",
    "\n",
    "lf1_mean_nonlin_mf_model, lf1_var_nonlin_mf_model = nonlin_mf_model.predict(X_plot_l1)\n",
    "lf1_std_nonlin_mf_model = np.sqrt(lf1_var_nonlin_mf_model)\n",
    "\n",
    "lf2_mean_nonlin_mf_model, lf2_var_nonlin_mf_model = nonlin_mf_model.predict(X_plot_l2)\n",
    "lf2_std_nonlin_mf_model = np.sqrt(lf2_var_nonlin_mf_model)\n",
    "\n",
    "hf_mean_nonlin_mf_model, hf_var_nonlin_mf_model = nonlin_mf_model.predict(X_plot_h)\n",
    "hf_std_nonlin_mf_model = np.sqrt(hf_var_nonlin_mf_model)\n"
   ]
  },
  {
   "cell_type": "code",
   "execution_count": 135,
   "id": "ab9b24a9",
   "metadata": {},
   "outputs": [
    {
     "data": {
      "image/png": "[encoded data removed]",
      "text/plain": [
       "<Figure size 720x432 with 1 Axes>"
      ]
     },
     "metadata": {
      "needs_background": "light"
     },
     "output_type": "display_data"
    }
   ],
   "source": [
    "fig, ax = plt.subplots(figsize=plot.big_wide_figsize)\n",
    "ax.fill_between(x_plot.flatten(), (lf1_mean_nonlin_mf_model - 1.96*lf1_std_nonlin_mf_model).flatten(), \n",
    "                 (lf1_mean_nonlin_mf_model + 1.96*lf1_std_nonlin_mf_model).flatten(), color='g', alpha=0.3)\n",
    "\n",
    "ax.fill_between(x_plot.flatten(), (lf2_mean_nonlin_mf_model - 1.96*lf2_std_nonlin_mf_model).flatten(), \n",
    "                 (lf2_mean_nonlin_mf_model + 1.96*lf2_std_nonlin_mf_model).flatten(), color='b', alpha=0.3)\n",
    "\n",
    "ax.fill_between(x_plot.flatten(), (hf_mean_nonlin_mf_model - 1.96*hf_std_nonlin_mf_model).flatten(), \n",
    "                 (hf_mean_nonlin_mf_model + 1.96*hf_std_nonlin_mf_model).flatten(), color='y', alpha=0.3)\n",
    "\n",
    "ax.plot(x_plot, lf1_mean_nonlin_mf_model, '--', color='g', linewidth=3)\n",
    "ax.plot(x_plot, lf2_mean_nonlin_mf_model, '--', color='b', linewidth=3)\n",
    "ax.plot(x_plot, hf_mean_nonlin_mf_model, '--', color='y', linewidth=3)\n",
    "#ax.scatter(r, LF)\n",
    "ax.scatter(r, HF,color='k', marker='x')\n",
    "ax.scatter(r, LF,color='k', marker='x')\n",
    "ax.scatter(r, MF,color='k', marker='x')\n",
    "ax.scatter(x_train_l1, y_train_l1, color='r')\n",
    "ax.scatter(x_train_l2, y_train_l2, color='r')\n",
    "ax.scatter(x_train_h, y_train_h, color='r')\n",
    "\n",
    "    \n",
    "\n",
    "ax.set_xlabel('$r$')\n",
    "ax.set_ylabel('Plot of $\\phi$ against r and several j AND Multifidelity GP')\n",
    "eps=1e-1\n",
    "ax.set_xlim(rmin-eps, rmax+eps)\n",
    "ax.legend(['Low Fidelity 1, j={}'.format(jlf1), 'Low Fidelity 2, j={}'.format(jlf2), 'High Fidelity, j={}'.format(jhf)])\n",
    "\n",
    "mlai.write_figure('nonlinear-multi-fidelity-model-fit.svg', directory='./uq')"
   ]
  }
 ],
 "metadata": {
  "kernelspec": {
   "display_name": "Python 3.8.10 64-bit",
   "language": "python",
   "name": "python3"
  },
  "language_info": {
   "codemirror_mode": {
    "name": "ipython",
    "version": 3
   },
   "file_extension": ".py",
   "mimetype": "text/x-python",
   "name": "python",
   "nbconvert_exporter": "python",
   "pygments_lexer": "ipython3",
   "version": "3.8.10"
  },
  "vscode": {
   "interpreter": {
    "hash": "31f2aee4e71d21fbe5cf8b01ff0e069b9275f58929596ceb00d14d90e3e16cd6"
   }
  }
 },
 "nbformat": 4,
 "nbformat_minor": 5
}
