{
 "cells": [
  {
   "cell_type": "code",
   "execution_count": 1,
   "metadata": {},
   "outputs": [],
   "source": [
    "import numpy as np\n",
    "import random\n",
    "import pandas as pd"
   ]
  },
  {
   "cell_type": "code",
   "execution_count": 3,
   "metadata": {},
   "outputs": [],
   "source": [
    "dfSB2M300k_M=pd.read_csv(\"../McKeon_original_data/Re2300000.txt\",  sep=\"\\t\", header=None, names = [\"datapoint\", \"y/R\", \"y+\", \"U+\", \"(U+-Ucl+)\"])\n",
    "dfSB3M_M=pd.read_csv(\"../McKeon_original_data/Re3000000.txt\", sep=\"\\t\", header=None, names = [\"datapoint\", \"y/R\", \"y+\", \"U+\", \"(U+-Ucl+)\"])\n",
    "dfSB4M_M=pd.read_csv(\"../McKeon_original_data/Re4000000.txt\", sep=\"\\t\", header=None, names = [\"datapoint\", \"y/R\", \"y+\", \"U+\", \"(U+-Ucl+)\"])\n",
    "dfSB6M_M=pd.read_csv(\"../McKeon_original_data/Re6000000.txt\", sep=\"\\t\", header=None, names = [\"datapoint\", \"y/R\", \"y+\", \"U+\", \"(U+-Ucl+)\"])\n",
    "dfSB7M_M=pd.read_csv(\"../McKeon_original_data/Re7000000.txt\", sep=\"\\t\", header=None, names = [\"datapoint\", \"y/R\", \"y+\", \"U+\", \"(U+-Ucl+)\"])\n",
    "dfSB10M_M=pd.read_csv(\"../McKeon_original_data/Re10000000.txt\", sep=\"\\t\", header=None, names = [\"datapoint\", \"y/R\", \"y+\", \"U+\", \"(U+-Ucl+)\"])\n",
    "dfSB13M_M=pd.read_csv(\"../McKeon_original_data/Re13000000.txt\", sep=\"\\t\", header=None, names = [\"datapoint\", \"y/R\", \"y+\", \"U+\", \"(U+-Ucl+)\"])"
   ]
  },
  {
   "cell_type": "code",
   "execution_count": 4,
   "metadata": {},
   "outputs": [],
   "source": [
    "dfs = [dfSB2M300k_M, dfSB3M_M, dfSB4M_M, dfSB6M_M, dfSB7M_M, dfSB10M_M, dfSB13M_M]\n",
    "Re_tau = []\n",
    "Y_ = []\n",
    "U_ = []\n",
    "possible_re_tau = [4.229500e+004, 5.453000e+004, 7.647800e+004, 1.022e+005, 1.279200e+005, 1.657e+005, 2.169800e+005]\n",
    "df_dic = {}\n",
    "\n",
    "for i in range(len(possible_re_tau)):\n",
    "    possible_y = dfs[i][\"y+\"].values\n",
    "    possible_u = dfs[i][\"U+\"].values\n",
    "    for j in range(34, len(possible_y)-1):                                     ### training from y/R > 0.1\n",
    "        Y_.append(possible_y[j])\n",
    "        U_.append(possible_u[j])\n",
    "        Re_tau.append(possible_re_tau[i])\n",
    "\n",
    "c = list(zip(Y_, Re_tau, U_))\n",
    "random.shuffle(c)\n",
    "Y_, Re_tau, U_ = zip(*c)\n",
    "\n",
    "df_dic['u+'] = np.array(U_)\n",
    "df_dic['y+'] = Y_\n",
    "df_dic['Re_tau'] = Re_tau\n",
    "\n",
    "df = pd.DataFrame.from_dict(df_dic)\n",
    "df.to_excel(\"extreme_re_MVP_data.xlsx\")"
   ]
  }
 ],
 "metadata": {
  "kernelspec": {
   "display_name": "barennet_env",
   "language": "python",
   "name": "python3"
  },
  "language_info": {
   "codemirror_mode": {
    "name": "ipython",
    "version": 3
   },
   "file_extension": ".py",
   "mimetype": "text/x-python",
   "name": "python",
   "nbconvert_exporter": "python",
   "pygments_lexer": "ipython3",
   "version": "3.11.5"
  }
 },
 "nbformat": 4,
 "nbformat_minor": 2
}
