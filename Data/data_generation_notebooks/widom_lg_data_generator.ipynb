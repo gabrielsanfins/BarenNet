{
 "cells": [
  {
   "cell_type": "code",
   "execution_count": 26,
   "metadata": {},
   "outputs": [],
   "source": [
    "import numpy as np\n",
    "import pandas as pd\n",
    "import random\n",
    "from sympy import *\n",
    "x, z, t, r, j, u = symbols('x z t r j u')"
   ]
  },
  {
   "cell_type": "code",
   "execution_count": 27,
   "metadata": {},
   "outputs": [],
   "source": [
    "#Amount of r points\n",
    "Nr=30\n",
    "#Amount of j points\n",
    "Nj=5\n",
    "#Minimum for r points\n",
    "mr=0.01\n",
    "#Maximum for r points\n",
    "Mr=20\n",
    "#Minimum for j points\n",
    "mj=0.1\n",
    "#Maximum for j points\n",
    "Mj=1"
   ]
  },
  {
   "cell_type": "code",
   "execution_count": 28,
   "metadata": {},
   "outputs": [],
   "source": [
    "#Equation for phi\n",
    "a=solve(r*z + u*z**3-j,z)\n",
    "#Equation for psi\n",
    "b=solve(x*t+u*t**3-1,t)"
   ]
  },
  {
   "cell_type": "code",
   "execution_count": 29,
   "metadata": {},
   "outputs": [],
   "source": [
    "#Define parameter u\n",
    "u=10"
   ]
  },
  {
   "cell_type": "code",
   "execution_count": 30,
   "metadata": {},
   "outputs": [
    {
     "data": {
      "text/plain": [
       "[r/(u*(-27*j/(2*u) + sqrt(729*j**2/u**2 + 108*r**3/u**3)/2)**(1/3)) - (-27*j/(2*u) + sqrt(729*j**2/u**2 + 108*r**3/u**3)/2)**(1/3)/3,\n",
       " r/(u*(-1/2 - sqrt(3)*I/2)*(-27*j/(2*u) + sqrt(729*j**2/u**2 + 108*r**3/u**3)/2)**(1/3)) - (-1/2 - sqrt(3)*I/2)*(-27*j/(2*u) + sqrt(729*j**2/u**2 + 108*r**3/u**3)/2)**(1/3)/3,\n",
       " r/(u*(-1/2 + sqrt(3)*I/2)*(-27*j/(2*u) + sqrt(729*j**2/u**2 + 108*r**3/u**3)/2)**(1/3)) - (-1/2 + sqrt(3)*I/2)*(-27*j/(2*u) + sqrt(729*j**2/u**2 + 108*r**3/u**3)/2)**(1/3)/3]"
      ]
     },
     "execution_count": 30,
     "metadata": {},
     "output_type": "execute_result"
    }
   ],
   "source": [
    "#all roots for phi (We need the real one)\n",
    "a"
   ]
  },
  {
   "cell_type": "code",
   "execution_count": 31,
   "metadata": {},
   "outputs": [
    {
     "data": {
      "text/plain": [
       "[-(-1/2 - sqrt(3)*I/2)*(sqrt(729/u**2 + 108*x**3/u**3)/2 - 27/(2*u))**(1/3)/3 + x/(u*(-1/2 - sqrt(3)*I/2)*(sqrt(729/u**2 + 108*x**3/u**3)/2 - 27/(2*u))**(1/3)),\n",
       " -(-1/2 + sqrt(3)*I/2)*(sqrt(729/u**2 + 108*x**3/u**3)/2 - 27/(2*u))**(1/3)/3 + x/(u*(-1/2 + sqrt(3)*I/2)*(sqrt(729/u**2 + 108*x**3/u**3)/2 - 27/(2*u))**(1/3)),\n",
       " -(sqrt(729/u**2 + 108*x**3/u**3)/2 - 27/(2*u))**(1/3)/3 + x/(u*(sqrt(729/u**2 + 108*x**3/u**3)/2 - 27/(2*u))**(1/3))]"
      ]
     },
     "execution_count": 31,
     "metadata": {},
     "output_type": "execute_result"
    }
   ],
   "source": [
    "#all roots for psi (We need the real one)\n",
    "b"
   ]
  },
  {
   "cell_type": "code",
   "execution_count": 32,
   "metadata": {},
   "outputs": [],
   "source": [
    "#Definition phi\n",
    "def phi(r,j,u):\n",
    "    return r/(u*(-27*j/(2*u) + sqrt(729*j**2/u**2 + 108*r**3/u**3)/2)**(1/3)) - (-27*j/(2*u) + sqrt(729*j**2/u**2 + 108*r**3/u**3)/2)**(1/3)/3"
   ]
  },
  {
   "cell_type": "code",
   "execution_count": 33,
   "metadata": {},
   "outputs": [],
   "source": [
    "#Definition psi\n",
    "def psi(x,u):\n",
    "    return  -(sqrt(729/u**2 + 108*x**3/u**3)/2 - 27/(2*u))**(1/3)/3 + x/(u*(sqrt(729/u**2 + 108*x**3/u**3)/2 - 27/(2*u))**(1/3))"
   ]
  },
  {
   "cell_type": "code",
   "execution_count": 23,
   "metadata": {},
   "outputs": [],
   "source": [
    "#Setting the space for variables r and j\n",
    "possible_r=np.linspace(mr,Mr,Nr)\n",
    "possible_j=np.linspace(mj,Mj,Nj)"
   ]
  },
  {
   "cell_type": "code",
   "execution_count": 24,
   "metadata": {},
   "outputs": [],
   "source": [
    "r_ = []\n",
    "j_=[]\n",
    "phi_=[]\n",
    "\n",
    "for j in possible_j:\n",
    "    for r in possible_r:\n",
    "        r_.append(r)\n",
    "        j_.append(j)\n",
    "        phi_.append(phi(r, j, u))\n",
    "\n",
    "c = list(zip(r_, j_, phi_))\n",
    "random.shuffle(c)\n",
    "r_, j_, phi_= zip(*c)\n"
   ]
  },
  {
   "cell_type": "code",
   "execution_count": 25,
   "metadata": {},
   "outputs": [],
   "source": [
    "data_dic = {}\n",
    "\n",
    "data_dic[\"phi\"] = phi_\n",
    "data_dic[\"r\"] = r_\n",
    "data_dic[\"j\"] = j_\n",
    "\n",
    "data_df = pd.DataFrame.from_dict(data_dic)\n",
    "data_df.to_excel(\"widom_lg_data.xlsx\")"
   ]
  },
  {
   "cell_type": "code",
   "execution_count": null,
   "metadata": {},
   "outputs": [],
   "source": []
  }
 ],
 "metadata": {
  "kernelspec": {
   "display_name": "barennet_env",
   "language": "python",
   "name": "python3"
  },
  "language_info": {
   "codemirror_mode": {
    "name": "ipython",
    "version": 3
   },
   "file_extension": ".py",
   "mimetype": "text/x-python",
   "name": "python",
   "nbconvert_exporter": "python",
   "pygments_lexer": "ipython3",
   "version": "3.11.5"
  }
 },
 "nbformat": 4,
 "nbformat_minor": 2
}
