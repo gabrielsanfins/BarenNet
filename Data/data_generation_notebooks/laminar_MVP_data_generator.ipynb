{
 "cells": [
  {
   "cell_type": "code",
   "execution_count": 1,
   "metadata": {},
   "outputs": [],
   "source": [
    "import numpy as np\n",
    "import random\n",
    "import pandas as pd"
   ]
  },
  {
   "cell_type": "code",
   "execution_count": 2,
   "metadata": {},
   "outputs": [],
   "source": [
    "possible_re_tau = np.linspace(start = 10, stop = 100, num = 100)"
   ]
  },
  {
   "cell_type": "code",
   "execution_count": 3,
   "metadata": {},
   "outputs": [],
   "source": [
    "U_ = []\n",
    "Y_ = []\n",
    "Re_tau = []\n",
    "\n",
    "for re_tau in possible_re_tau:\n",
    "    possible_y = np.linspace(start = 0.01, stop = re_tau, num = 100)\n",
    "    for y in possible_y:\n",
    "        u_ = y - ((1.0 / (2.0 * re_tau)) * (y**2))\n",
    "        U_.append(u_)\n",
    "        Y_.append(y)\n",
    "        Re_tau.append(re_tau)\n",
    "\n",
    "c = list(zip(Y_, Re_tau, U_))\n",
    "random.shuffle(c)\n",
    "Y_, Re_tau, U_= zip(*c)"
   ]
  },
  {
   "cell_type": "code",
   "execution_count": 4,
   "metadata": {},
   "outputs": [],
   "source": [
    "data_dic = {}\n",
    "\n",
    "data_dic[\"u+\"] = U_\n",
    "data_dic[\"y+\"] = Y_\n",
    "data_dic[\"Re_tau\"] = Re_tau\n",
    "\n",
    "data_df = pd.DataFrame.from_dict(data_dic)\n",
    "data_df.to_excel(\"laminar_MVP_data.xlsx\")"
   ]
  }
 ],
 "metadata": {
  "kernelspec": {
   "display_name": "barennet_env",
   "language": "python",
   "name": "python3"
  },
  "language_info": {
   "codemirror_mode": {
    "name": "ipython",
    "version": 3
   },
   "file_extension": ".py",
   "mimetype": "text/x-python",
   "name": "python",
   "nbconvert_exporter": "python",
   "pygments_lexer": "ipython3",
   "version": "3.11.5"
  }
 },
 "nbformat": 4,
 "nbformat_minor": 2
}
