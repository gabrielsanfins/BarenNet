{
 "cells": [
  {
   "cell_type": "code",
   "execution_count": 1,
   "metadata": {},
   "outputs": [],
   "source": [
    "import numpy as np\n",
    "import random\n",
    "import pandas as pd"
   ]
  },
  {
   "cell_type": "code",
   "execution_count": 3,
   "metadata": {},
   "outputs": [],
   "source": [
    "nikuradse_df = pd.read_excel(\"../Nikuradse_original_data/Nikuradse.xlsx\")"
   ]
  },
  {
   "cell_type": "code",
   "execution_count": 16,
   "metadata": {},
   "outputs": [],
   "source": [
    "re_key_list = [\"Re_15\", \"Re_30_6\", \"Re_60\", \"Re_126\", \"Re_252\", \"Re_507\", \"Re_1300\"]\n",
    "friction_key_list = [\"100lambda_15\", \"100lambda_30_6\", \"100lambda_60\",\n",
    "                      \"100lambda_126\", \"100lambda_252\", \"100lambda_507\",\n",
    "                      \"100lambda_1300\"]\n",
    "D_r_list = [15, 30.6, 60, 126, 252, 507, 1300]\n",
    "\n",
    "length_list = [76, 74, 77, 67, 43, 38, 39]\n",
    "r_hat_list = []\n",
    "\n",
    "for d_r in D_r_list:\n",
    "    r_hat_list.append(1 / d_r)"
   ]
  },
  {
   "cell_type": "code",
   "execution_count": 17,
   "metadata": {},
   "outputs": [],
   "source": [
    "Re_ = []\n",
    "R_hat_ = []\n",
    "f_ = []\n",
    "df_dic = {}\n",
    "\n",
    "for i in range(6):\n",
    "    Re = nikuradse_df[re_key_list[i]].values\n",
    "    f = nikuradse_df[friction_key_list[i]].values\n",
    "    R_hat = r_hat_list[i]\n",
    "\n",
    "    for j in range(length_list[i]):\n",
    "        Re_.append(Re[j])\n",
    "        f_.append(f[j])\n",
    "        R_hat_.append(R_hat)\n",
    "\n",
    "c = list(zip(Re_, R_hat_, f_))\n",
    "random.shuffle(c)\n",
    "Re_, R_hat_, f_ = zip(*c)\n",
    "\n",
    "df_dic['f'] = f_\n",
    "df_dic['r/D'] = R_hat_\n",
    "df_dic['Re'] = Re_\n",
    "\n",
    "df = pd.DataFrame.from_dict(df_dic)\n",
    "df.to_excel(\"nikuradse_friction_roughness_data.xlsx\")"
   ]
  }
 ],
 "metadata": {
  "kernelspec": {
   "display_name": "barennet_env",
   "language": "python",
   "name": "python3"
  },
  "language_info": {
   "codemirror_mode": {
    "name": "ipython",
    "version": 3
   },
   "file_extension": ".py",
   "mimetype": "text/x-python",
   "name": "python",
   "nbconvert_exporter": "python",
   "pygments_lexer": "ipython3",
   "version": "3.11.5"
  }
 },
 "nbformat": 4,
 "nbformat_minor": 2
}
