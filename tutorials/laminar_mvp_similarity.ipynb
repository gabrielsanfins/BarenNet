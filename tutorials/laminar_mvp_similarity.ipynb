{
 "cells": [
  {
   "cell_type": "markdown",
   "metadata": {},
   "source": [
    "# Laminar Newtonian Similarity\n",
    "\n",
    "As usual, we will begin by importing the necessary python packages"
   ]
  },
  {
   "cell_type": "code",
   "execution_count": null,
   "metadata": {},
   "outputs": [],
   "source": [
    "from barennet import SimilarityModel\n",
    "import tensorflow as tf\n",
    "\n",
    "tf.config.set_visible_devices([], 'GPU')"
   ]
  },
  {
   "cell_type": "markdown",
   "metadata": {},
   "source": [
    "We will find the incomplete similarity exponents for the laminar newtonian \n",
    "mean velocity profile in wall coordinates. We know that the dimensionless quantities\n",
    "involved are $(u^+, y^+, Re_\\tau)$. They are related through the following equation:\n",
    "\n",
    "$$ u^+ = y^+ - \\frac{1}{2 Re_\\tau} \\left( y^+ \\right)^2.$$\n",
    "\n",
    "We provide a data file generated following the equation above with $10 < Re_\\tau < 100$\n",
    "and $0 < y^+ < Re_\\tau$ (which, in bulk coordinates, translates to $0 < y < \\delta$).\n",
    "The MDDP construction of the three dimensionless quantities is also provided in the \n",
    "code cell below."
   ]
  },
  {
   "cell_type": "code",
   "execution_count": null,
   "metadata": {},
   "outputs": [],
   "source": [
    "# First we will prepare the inputs for the similarity model class for the \n",
    "# Bingham friction factor.\n",
    "\n",
    "data_path = \"../Data/laminar_MVP_data.xlsx\"\n",
    "dimensionally_independent_parameters = [\"mu\", \"rho\", \"delta\"]\n",
    "dimensionally_dependent_parameters = [\"y\", \"- dp/dz\"]\n",
    "dimensional_qoi = \"u\"\n",
    "non_dimensional_parameters = [\"y+\", \"Re_tau\"]\n",
    "non_dimensional_qoi = \"u+\"\n",
    "non_dimensional_params_construction = { \n",
    "    \"y+\": {\"y\": 1.0, \"- dp/dz\": 0.5, \"mu\": -1, \"rho\": 0.5, \"delta\": 0.5},\n",
    "    \"Re_tau\": {\"y\": 0.0, \"- dp/dz\": 0.5, \"mu\": -1, \"rho\": 0.5, \"delta\": 1.5}, \n",
    "}\n",
    "non_dimensional_qoi_construction = {\n",
    "    \"u+\": {\"u\": 1, \"y\": 0.0, \"- dp/dz\": -0.5, \"mu\": 0.0, \"rho\": 0.5, \"delta\": -0.5}\n",
    "}\n",
    "non_similar_params = [\"y+\"]\n",
    "similar_params = [\"Re_tau\"]"
   ]
  },
  {
   "cell_type": "code",
   "execution_count": null,
   "metadata": {},
   "outputs": [],
   "source": [
    "similarity_model = SimilarityModel(\n",
    "    data_path=data_path,\n",
    "    dimensionally_independent_params=dimensionally_independent_parameters,\n",
    "    dimensionally_dependent_params=dimensionally_dependent_parameters,\n",
    "    dimensional_qoi=dimensional_qoi,\n",
    "    non_dimensional_params=non_dimensional_parameters,\n",
    "    non_dimensional_qoi=non_dimensional_qoi,\n",
    "    non_dimensional_params_construction=non_dimensional_params_construction,\n",
    "    non_dimesional_qoi_construction=non_dimensional_qoi_construction,\n",
    "    non_similar_params=non_similar_params,\n",
    "    similar_params=similar_params\n",
    ")"
   ]
  },
  {
   "cell_type": "markdown",
   "metadata": {},
   "source": [
    "### Buckingham's Similarity Group\n",
    "\n",
    "As soon as the dimensionless construction is provided and we create an instance \n",
    "of the SimilarityModel class, the Buckingham's similarity group can be calculated\n",
    "by solving a linear system (chapter 5 of the thesis).\n",
    "It shoud read:\n",
    "\\begin{align*}\n",
    "    &\\mu^* = A_1 \\mu, \\ \\ \\ \\rho^* = A_2 \\rho, \\ \\ \\ \\delta^* = A_3 \\delta \\\\ & \\\\\n",
    "    & \\left( \\frac{dp}{dz} \\right)^* = \\frac{A_1^2}{A_2 A_3^3} \\left( \\frac{dp}{dz} \\right) \\\\ & \\\\\n",
    "    &U^* = \\frac{A_1}{A_2 A_3} U\n",
    "\\end{align*}\n",
    "\n",
    "And, as you can see, this is exactly the output of the cell below."
   ]
  },
  {
   "cell_type": "code",
   "execution_count": null,
   "metadata": {},
   "outputs": [],
   "source": [
    "similarity_model.print_buckingham_similarity_group()"
   ]
  },
  {
   "cell_type": "code",
   "execution_count": null,
   "metadata": {},
   "outputs": [],
   "source": [
    "similarity_model.find_incomplete_similarity(n_tries=5, n_epochs=1000, tol=5e-3)"
   ]
  },
  {
   "cell_type": "code",
   "execution_count": null,
   "metadata": {},
   "outputs": [],
   "source": [
    "similarity_model.incomplete_similarity_exponents_dict"
   ]
  },
  {
   "cell_type": "code",
   "execution_count": null,
   "metadata": {},
   "outputs": [],
   "source": [
    "similarity_model.print_renormalization_group()"
   ]
  }
 ],
 "metadata": {
  "kernelspec": {
   "display_name": "barennet_env",
   "language": "python",
   "name": "python3"
  },
  "language_info": {
   "codemirror_mode": {
    "name": "ipython",
    "version": 3
   },
   "file_extension": ".py",
   "mimetype": "text/x-python",
   "name": "python",
   "nbconvert_exporter": "python",
   "pygments_lexer": "ipython3",
   "version": "3.11.5"
  }
 },
 "nbformat": 4,
 "nbformat_minor": 2
}
