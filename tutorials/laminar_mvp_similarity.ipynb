{
 "cells": [
  {
   "cell_type": "markdown",
   "metadata": {},
   "source": [
    "# Laminar Newtonian Similarity\n",
    "\n",
    "As usual, we will begin by importing the necessary python packages"
   ]
  },
  {
   "cell_type": "code",
   "execution_count": null,
   "metadata": {},
   "outputs": [],
   "source": [
    "from barennet import SimilarityModel\n",
    "import tensorflow as tf\n",
    "import numpy as np\n",
    "\n",
    "tf.config.set_visible_devices([], 'GPU')"
   ]
  },
  {
   "cell_type": "markdown",
   "metadata": {},
   "source": [
    "We will find the incomplete similarity exponents for the laminar newtonian \n",
    "mean velocity profile in wall coordinates. We know that the dimensionless quantities\n",
    "involved are $(u^+, y^+, Re_\\tau)$. They are related through the following equation:\n",
    "\n",
    "$$ u^+ = y^+ - \\frac{1}{2 Re_\\tau} \\left( y^+ \\right)^2.$$\n",
    "\n",
    "We provide a data file generated following the equation above with $10 < Re_\\tau < 100$\n",
    "and $0 < y^+ < Re_\\tau$ (which, in bulk coordinates, translates to $0 < y < \\delta$).\n",
    "The MDDP construction of the three dimensionless quantities is also provided in the \n",
    "code cell below."
   ]
  },
  {
   "cell_type": "code",
   "execution_count": null,
   "metadata": {},
   "outputs": [],
   "source": [
    "data_path = \"../Data/laminar_MVP_data.xlsx\"\n",
    "dimensionally_independent_parameters = [\"mu\", \"rho\", \"delta\"]\n",
    "dimensionally_dependent_parameters = [\"y\", \"- dp/dz\"]\n",
    "dimensional_qoi = \"u\"\n",
    "non_dimensional_parameters = [\"y+\", \"Re_tau\"]\n",
    "non_dimensional_qoi = \"u+\"\n",
    "non_dimensional_params_construction = { \n",
    "    \"y+\": {\"y\": 1.0, \"- dp/dz\": 0.5, \"mu\": -1, \"rho\": 0.5, \"delta\": 0.5},\n",
    "    \"Re_tau\": {\"y\": 0.0, \"- dp/dz\": 0.5, \"mu\": -1, \"rho\": 0.5, \"delta\": 1.5}, \n",
    "}\n",
    "non_dimensional_qoi_construction = {\n",
    "    \"u+\": {\"u\": 1, \"y\": 0.0, \"- dp/dz\": -0.5, \"mu\": 0.0, \"rho\": 0.5, \"delta\": -0.5}\n",
    "}\n",
    "non_similar_params = [\"y+\"]\n",
    "similar_params = [\"Re_tau\"]"
   ]
  },
  {
   "cell_type": "code",
   "execution_count": null,
   "metadata": {},
   "outputs": [],
   "source": [
    "similarity_model = SimilarityModel(\n",
    "    data_path=data_path,\n",
    "    dimensionally_independent_params=dimensionally_independent_parameters,\n",
    "    dimensionally_dependent_params=dimensionally_dependent_parameters,\n",
    "    dimensional_qoi=dimensional_qoi,\n",
    "    non_dimensional_params=non_dimensional_parameters,\n",
    "    non_dimensional_qoi=non_dimensional_qoi,\n",
    "    non_dimensional_params_construction=non_dimensional_params_construction,\n",
    "    non_dimesional_qoi_construction=non_dimensional_qoi_construction,\n",
    "    non_similar_params=non_similar_params,\n",
    "    similar_params=similar_params)"
   ]
  },
  {
   "cell_type": "markdown",
   "metadata": {},
   "source": [
    "### Buckingham's Similarity Group\n",
    "\n",
    "As soon as the dimensionless construction is provided and we create an instance \n",
    "of the SimilarityModel class, the Buckingham's similarity group can be calculated\n",
    "by solving a linear system (chapter 5 of the thesis).\n",
    "It shoud read:\n",
    "\\begin{align*}\n",
    "    &\\mu^* = A_1 \\mu, \\ \\ \\ \\rho^* = A_2 \\rho, \\ \\ \\ \\delta^* = A_3 \\delta \\\\ & \\\\\n",
    "    & y^* = A_3 y \\\\ & \\\\\n",
    "    & \\left( \\frac{dp}{dz} \\right)^* = \\frac{A_1^2}{A_2 A_3^3} \\left( \\frac{dp}{dz} \\right) \\\\ & \\\\\n",
    "    &U^* = \\frac{A_1}{A_2 A_3} U\n",
    "\\end{align*}\n",
    "\n",
    "And, as you can see, this is exactly the output of the cell below."
   ]
  },
  {
   "cell_type": "code",
   "execution_count": null,
   "metadata": {},
   "outputs": [],
   "source": [
    "similarity_model.print_buckingham_similarity_group()"
   ]
  },
  {
   "cell_type": "code",
   "execution_count": null,
   "metadata": {},
   "outputs": [],
   "source": [
    "similarity_model.find_incomplete_similarity(n_tries=5, n_epochs=1000, tol=5e-3)"
   ]
  },
  {
   "cell_type": "code",
   "execution_count": null,
   "metadata": {},
   "outputs": [],
   "source": [
    "similarity_model.incomplete_similarity_exponents_dict"
   ]
  },
  {
   "cell_type": "code",
   "execution_count": null,
   "metadata": {},
   "outputs": [],
   "source": [
    "similarity_model.print_renormalization_group()"
   ]
  },
  {
   "cell_type": "code",
   "execution_count": null,
   "metadata": {},
   "outputs": [],
   "source": [
    "import matplotlib.pyplot as plt\n",
    "import matplotlib.font_manager as font_manager\n",
    "plt.rc('mathtext', fontset=\"cm\")\n",
    "import matplotlib.ticker as mtick\n",
    "from matplotlib import cm # Colormaps\n",
    "import matplotlib.gridspec as gridspec\n",
    "import seaborn as sns\n",
    "\n",
    "from tutorial_utils.plotting_methods import (get_laminar_data_for_plotting,\n",
    "                                             plot_laminar_flow)"
   ]
  },
  {
   "cell_type": "code",
   "execution_count": null,
   "metadata": {},
   "outputs": [],
   "source": [
    "U_plus, Y_plus, Re_tau = get_laminar_data_for_plotting()\n",
    "\n",
    "plot_laminar_flow(U_plus, Y_plus, Re_tau)"
   ]
  },
  {
   "cell_type": "code",
   "execution_count": null,
   "metadata": {},
   "outputs": [],
   "source": [
    "fig, ax1 = plt.subplots(figsize=(16, 10))\n",
    "\n",
    "left, bottom, width, height = [0.57, 0.17, 0.3, 0.3] \n",
    "ax2 = fig.add_axes([left, bottom, width, height])\n",
    "\n",
    "colors = cm.tab10(np.linspace(0, 1, 10))\n",
    "markers=['o','^','s','d','P','*','v','D']\n",
    "line_width = 1\n",
    "\n",
    "for i in range(len(possible_re_tau)):\n",
    "    ax1.scatter(np.array(Y_plus_list[i]) * (possible_re_tau[i] ** similarity_model.incomplete_similarity_exponents_dict['y+']['Re_tau']),\n",
    "                 np.array(U_plus_list[i]) * (possible_re_tau[i] ** similarity_model.incomplete_similarity_exponents_dict['u+']['Re_tau']),\n",
    "                 alpha = 1, s=40, linewidth = line_width, facecolors = 'none', \n",
    "                 color = colors[i], marker = markers[i], \n",
    "                  label = r'$Re_\\tau= $'+r'${}$'.format(possible_re_tau[i]))\n",
    "    \n",
    "    ax2.scatter(np.array(Y_plus_list[i]) * (possible_re_tau[i] ** similarity_model.incomplete_similarity_exponents_dict['y+']['Re_tau']),\n",
    "                 np.array(U_plus_list[i]) * (possible_re_tau[i] ** similarity_model.incomplete_similarity_exponents_dict['u+']['Re_tau']),\n",
    "                 alpha = 1, s=40, linewidth = line_width, facecolors = 'none', \n",
    "                 color = colors[i], marker = markers[i], \n",
    "                  label = r'$Re_\\tau= $'+r'${}$'.format(possible_re_tau[i]))\n",
    "    \n",
    "font = font_manager.FontProperties(family='DejaVu Sans', weight='roman',\n",
    "                                   style='normal', size = 'large',\n",
    "                                   stretch = 'ultra-condensed')\n",
    "\n",
    "ax1.legend(bbox_to_anchor=(0., 0.99), loc = 'upper left', edgecolor = 'white',\n",
    "            framealpha = 0, prop = font, borderaxespad=0.)\n",
    "ax1.set_xlabel(r\"$y^+ / Re_\\tau^{0.95}$\", size = 'xx-large', fontweight = 'black')\n",
    "ax1.set_ylabel(r'$u^+ / Re_\\tau^{0.97}$', size = 'xx-large')\n",
    "#ax1.set_ylim([5,14])\n",
    "ax1.grid(False)\n",
    "ax1.tick_params(axis='x', labelsize = 'large')\n",
    "ax1.tick_params(axis='y', labelsize = 'large')\n",
    "ax1.spines['bottom'].set_color('black')\n",
    "ax1.spines['top'].set_color('black')\n",
    "ax1.spines['left'].set_color('black')\n",
    "ax1.spines['right'].set_color('black')\n",
    "ax2.spines['bottom'].set_color('black')\n",
    "ax2.spines['top'].set_color('black')\n",
    "ax2.spines['left'].set_color('black')\n",
    "ax2.spines['right'].set_color('black')\n",
    "ax2.set_xlabel(r\"$\\log \\ \\left( y^+ / Re_\\tau^{0.95} \\right)$\", fontsize = 'large')\n",
    "ax2.set_ylabel(r'$u^+ / Re_\\tau^{0.97}$', fontsize = 'large')\n",
    "ax2.set_xscale('log')\n",
    "ax2.tick_params(axis='x', labelsize = 'medium')\n",
    "ax2.tick_params(axis='y', labelsize = 'medium')\n",
    "#ax2.set_xlim([0.01,1])\n",
    "#ax2.set_ylim([5,14])\n",
    "ax2.grid(False)\n",
    "\n",
    "plt.savefig('tutorial_plots/laminar_flow_wall_coordinates_renormalized.pdf', \n",
    "            format='pdf', \n",
    "            dpi=1200)\n",
    "\n",
    "plt.show()"
   ]
  }
 ],
 "metadata": {
  "kernelspec": {
   "display_name": "barennet_env",
   "language": "python",
   "name": "python3"
  },
  "language_info": {
   "codemirror_mode": {
    "name": "ipython",
    "version": 3
   },
   "file_extension": ".py",
   "mimetype": "text/x-python",
   "name": "python",
   "nbconvert_exporter": "python",
   "pygments_lexer": "ipython3",
   "version": "3.11.5"
  }
 },
 "nbformat": 4,
 "nbformat_minor": 2
}
