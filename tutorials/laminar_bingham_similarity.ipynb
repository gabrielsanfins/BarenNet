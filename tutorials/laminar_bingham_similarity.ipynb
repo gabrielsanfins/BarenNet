{
 "cells": [
  {
   "cell_type": "markdown",
   "metadata": {},
   "source": [
    "# Laminar Bingham Similarity\n",
    "\n",
    "As usual, we will begin by importing the necessary python packages"
   ]
  },
  {
   "cell_type": "code",
   "execution_count": null,
   "metadata": {},
   "outputs": [],
   "source": [
    "from barennet import SimilarityModel\n",
    "import tensorflow as tf\n",
    "import numpy as np\n",
    "\n",
    "# Uncomment the line below if if you have tensorflow issues regarding your GPU:\n",
    "\n",
    "# tf.config.set_visible_devices([], 'GPU')"
   ]
  },
  {
   "cell_type": "markdown",
   "metadata": {},
   "source": [
    "We will find the incomplete similarity exponents for the laminar newtonian \n",
    "mean velocity profile in wall coordinates. We know that the dimensionless quantities\n",
    "involved are $(u^+, \\hat{r}, He, Re_\\tau)$. They are related through the following equation\n",
    "outside of the plug region:\n",
    "\n",
    "$$ u^+ = \\frac{Re_\\tau}{4} \\left( 1 - \\hat{r}^2 \\right) - \\left( 1 - \\hat{r} \\right) \\frac{He}{2 Re_\\tau}.$$\n",
    "\n",
    "We provide a data file generated following the equation above with $10 < Re_\\tau < 100$,\n",
    " $10 < He < 100$ and $He / Re_\\tau^2 < \\hat{r} < 1$ (which is exactly the region outside of the plug).\n",
    "The MDDP construction of the four dimensionless quantities is also provided in the \n",
    "code cell below."
   ]
  },
  {
   "cell_type": "code",
   "execution_count": null,
   "metadata": {},
   "outputs": [],
   "source": [
    "data_path = \"../Data/bingham_mvp_data.xlsx\"\n",
    "dimensionally_independent_parameters = [\"mu\", \"rho\", \"D\"]\n",
    "dimensionally_dependent_parameters = [\"r\", \"tau_y\", \"- dp/dz\"]\n",
    "dimensional_qoi = \"u\"\n",
    "non_dimensional_parameters = [\"r^\", \"He\", \"Re_tau\"]\n",
    "non_dimensional_qoi = \"u+\"\n",
    "non_dimensional_params_construction = {\n",
    "    \"r^\": {\"r\": 1.0, \"tau_y\": 0, \"- dp/dz\": 0, \"mu\": 0, \"rho\": 0, \"D\": -1}, \n",
    "    \"Re_tau\": {\"r\": 0, \"- dp/dz\": 1/2, \"tau_y\": 0, \"mu\": -1, \"rho\": 0.5, \"D\": 3/2}, \n",
    "    \"He\": {\"r\": 0, \"tau_y\": 1, \"- dp/dz\": 0, \"mu\": -2, \"rho\": 1, \"D\": 2}\n",
    "}\n",
    "non_dimensional_qoi_construction = {\n",
    "    \"u+\": {\"u\": 1, \"r\": 0, \"tau_y\": 0, \"- dp/dz\": -0.5, \"mu\": 0, \"rho\": 0.5, \"D\": -0.5}\n",
    "}\n",
    "non_similar_params = [\"r^\", \"He\"]\n",
    "similar_params = [\"Re_tau\"]"
   ]
  },
  {
   "cell_type": "code",
   "execution_count": null,
   "metadata": {},
   "outputs": [],
   "source": [
    "similarity_model = SimilarityModel(\n",
    "    data_path=data_path,\n",
    "    dimensionally_independent_params=dimensionally_independent_parameters,\n",
    "    dimensionally_dependent_params=dimensionally_dependent_parameters,\n",
    "    dimensional_qoi=dimensional_qoi,\n",
    "    non_dimensional_params=non_dimensional_parameters,\n",
    "    non_dimensional_qoi=non_dimensional_qoi,\n",
    "    non_dimensional_params_construction=non_dimensional_params_construction,\n",
    "    non_dimesional_qoi_construction=non_dimensional_qoi_construction,\n",
    "    non_similar_params=non_similar_params,\n",
    "    similar_params=similar_params)"
   ]
  },
  {
   "cell_type": "markdown",
   "metadata": {},
   "source": [
    "### Buckingham's Similarity Group\n",
    "\n",
    "As soon as the dimensionless construction is provided and we create an instance \n",
    "of the SimilarityModel class, the Buckingham's similarity group can be calculated\n",
    "by solving a linear system (chapter 5 of the thesis).\n",
    "It shoud read:\n",
    "\\begin{align*}\n",
    "    &\\mu^* = A_1 \\mu, \\ \\ \\ \\rho^* = A_2 \\rho, \\ \\ \\ D^* = A_3 D \\\\ & \\\\\n",
    "    & r^* = A_3 r, \\ \\ \\ \\tau_y^* = \\frac{A_1^2}{A_2 A_3^2} \\tau_y \\\\ & \\\\\n",
    "    & \\left( \\frac{dp}{dz} \\right)^* = \\frac{A_1^2}{A_2 A_3^3} \\left( \\frac{dp}{dz} \\right) \\\\ & \\\\\n",
    "    &U^* = \\frac{A_1}{A_2 A_3} U\n",
    "\\end{align*}\n",
    "\n",
    "And, as you can see, this is exactly the output of the cell below."
   ]
  },
  {
   "cell_type": "code",
   "execution_count": null,
   "metadata": {},
   "outputs": [],
   "source": [
    "similarity_model.print_buckingham_similarity_group()"
   ]
  },
  {
   "cell_type": "markdown",
   "metadata": {},
   "source": [
    "Remember that we can algebraically manipulate the equation above to see that the laminar MVP fits the definition of incomplete similarity, as a matter of fact:\n",
    "\\begin{equation*}\n",
    "u^+ = Re_\\tau \\left( \\frac{\\left( 1 - \\hat{r}^2\\right)}{4} - \\frac{1 - \\hat{r}}{2} \\frac{He}{Re_\\tau^2} \\right) = Re_\\tau \\Phi^{(1)} \\left( \\hat{r}, \\frac{He}{Re_\\tau^2} \\right),\n",
    "\\end{equation*}\n",
    "where $\\Phi^{(1)}(z_1, z_2) = (1-z_1) / 4 - (1-z_1)z_2 / 2$. We can now use the find_incomplete_similarity method in order to use the BarenNet to find proper incomplete similarity exponents, as well as estimating the function $\\Phi^{(1)}$ with a Deep Neural Network."
   ]
  },
  {
   "cell_type": "code",
   "execution_count": null,
   "metadata": {},
   "outputs": [],
   "source": [
    "similarity_model.find_incomplete_similarity(n_tries=5, n_epochs=10, tol=5e-3)"
   ]
  },
  {
   "cell_type": "markdown",
   "metadata": {},
   "source": [
    "After training has been performed, we can check the exponents found by the BarenNet by printing the dictionary used to store them in our class. \n",
    "\n",
    "$\\cdot$ The entry dict[\"r^\"][\"Re_tau\"] refers to the exponent of $Re_\\tau$ when it is multiplied by $\\hat{r}$ i.e. $\\xi_3^{(1)}$;\n",
    "\n",
    "$\\cdot$ The entry dict[\"He\"][\"Re_tau\"] refers to the exponent of $Re_\\tau$ when it is multiplied by $He$ i.e. $\\xi_3^{(2)}$;\n",
    "\n",
    "$\\cdot$ As one should expect, the entry dict[\"u+\"][\"Re_tau\"] refers to the exponent of $Re_\\tau$ when it is multiplied by $u^+$ i.e. $\\xi_1$.\n",
    "\n",
    "By looking at the incomplete similarity theoretical equation above, we come to the conclusion that $\\xi_1 \\approx -1,  \\ \\ \\  \\xi_3^{(1)} \\approx 0$ and $\\xi_3^{(2)} \\approx -2$. Let's see:"
   ]
  },
  {
   "cell_type": "code",
   "execution_count": null,
   "metadata": {},
   "outputs": [],
   "source": [
    "print(similarity_model.incomplete_similarity_exponents_dict)"
   ]
  },
  {
   "cell_type": "markdown",
   "metadata": {},
   "source": [
    "Now that incomplete similarity has been found, our package has already automatically calculated the renormalization group from the exponents found. Much like Buckingham's similarity group, we can print it with the following method:"
   ]
  },
  {
   "cell_type": "code",
   "execution_count": null,
   "metadata": {},
   "outputs": [],
   "source": [
    "similarity_model.print_renormalization_group()"
   ]
  },
  {
   "cell_type": "markdown",
   "metadata": {},
   "source": [
    "Now we will do plot some data points in original coordinates and, afterwards, plot the same points in the renormalized dimensionless coordinates. A data collapse is expected."
   ]
  },
  {
   "cell_type": "code",
   "execution_count": null,
   "metadata": {},
   "outputs": [],
   "source": [
    "import matplotlib.pyplot as plt\n",
    "import matplotlib.font_manager as font_manager\n",
    "plt.rc('mathtext', fontset=\"cm\")\n",
    "import matplotlib.ticker as mtick\n",
    "from matplotlib import cm # Colormaps\n",
    "import matplotlib.gridspec as gridspec\n",
    "import seaborn as sns\n",
    "\n",
    "from tutorial_utils.plotting_methods import (plot_laminar_bingham,\n",
    "                                             plot_laminar_bingham_renormalized)"
   ]
  },
  {
   "cell_type": "code",
   "execution_count": null,
   "metadata": {},
   "outputs": [],
   "source": [
    "plot_laminar_bingham()"
   ]
  },
  {
   "cell_type": "code",
   "execution_count": null,
   "metadata": {},
   "outputs": [],
   "source": [
    "plot_laminar_bingham_renormalized(similarity_model.incomplete_similarity_exponents_dict)"
   ]
  }
 ],
 "metadata": {
  "kernelspec": {
   "display_name": "barennet_env",
   "language": "python",
   "name": "python3"
  },
  "language_info": {
   "codemirror_mode": {
    "name": "ipython",
    "version": 3
   },
   "file_extension": ".py",
   "mimetype": "text/x-python",
   "name": "python",
   "nbconvert_exporter": "python",
   "pygments_lexer": "ipython3",
   "version": "3.11.5"
  }
 },
 "nbformat": 4,
 "nbformat_minor": 2
}
