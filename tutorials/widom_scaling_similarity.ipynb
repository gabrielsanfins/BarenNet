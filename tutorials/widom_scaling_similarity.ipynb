{
 "cells": [
  {
   "cell_type": "markdown",
   "metadata": {},
   "source": [
    "# Widom Scaling\n",
    "\n",
    "As usual, we will begin by importing the necessary python packages"
   ]
  },
  {
   "cell_type": "code",
   "execution_count": null,
   "metadata": {},
   "outputs": [],
   "source": [
    "from barennet import SimilarityModel\n",
    "import tensorflow as tf\n",
    "import numpy as np\n",
    "\n",
    "# Uncomment the line below if if you have tensorflow issues regarding your GPU:\n",
    "\n",
    "# tf.config.set_visible_devices([], 'GPU')"
   ]
  },
  {
   "cell_type": "markdown",
   "metadata": {},
   "source": [
    "We will find the incomplete similarity exponents for the what is commonly know as\n",
    "Widom Scaling. We know that the dimensionless quantities involved are \n",
    "$(r, j, \\phi)$ and, although we don't know the relation between them, we know\n",
    "that:\n",
    "\n",
    "$$ \\phi = j^{1/3} \\Phi^{(1)} \\left( \\frac{r}{j^{2/3}} \\right)$$\n",
    "\n",
    "We provide a data file with generated widom scaling data. The MDDP construction \n",
    "is not really important in our case, we will work directly with the \n",
    "dimensionless quantities."
   ]
  },
  {
   "cell_type": "code",
   "execution_count": null,
   "metadata": {},
   "outputs": [],
   "source": [
    "data_path = \"../Data/widom_lg_data.xlsx\"\n",
    "dimensionally_independent_parameters = []\n",
    "dimensionally_dependent_parameters = [\"r_\", \"j_\"]\n",
    "dimensional_qoi = \"phi_\"\n",
    "non_dimensional_parameters = [\"r\", \"j\"]\n",
    "non_dimensional_qoi = \"phi\"\n",
    "non_dimensional_params_construction = { \n",
    "    \"r\": {\"r_\": 1.0, \"j_\": 0.0},\n",
    "    \"j\": {\"r_\": 0.0, \"j_\": 1.0} \n",
    "}\n",
    "non_dimensional_qoi_construction = {\n",
    "    \"phi\": {\"phi_\": 1, \"r_\": 0.0, \"j_\": 0.0}\n",
    "}\n",
    "non_similar_params = [\"r\"]\n",
    "similar_params = [\"j\"]"
   ]
  },
  {
   "cell_type": "code",
   "execution_count": null,
   "metadata": {},
   "outputs": [],
   "source": [
    "similarity_model = SimilarityModel(\n",
    "    data_path=data_path,\n",
    "    dimensionally_independent_params=dimensionally_independent_parameters,\n",
    "    dimensionally_dependent_params=dimensionally_dependent_parameters,\n",
    "    dimensional_qoi=dimensional_qoi,\n",
    "    non_dimensional_params=non_dimensional_parameters,\n",
    "    non_dimensional_qoi=non_dimensional_qoi,\n",
    "    non_dimensional_params_construction=non_dimensional_params_construction,\n",
    "    non_dimesional_qoi_construction=non_dimensional_qoi_construction,\n",
    "    non_similar_params=non_similar_params,\n",
    "    similar_params=similar_params)"
   ]
  },
  {
   "cell_type": "markdown",
   "metadata": {},
   "source": [
    "### Buckingham's Similarity Group\n",
    "\n",
    "We can print Buckingham's Similarity Group, but as we don't care about the \n",
    "dimensionless construction in this setting, it will be meaningless."
   ]
  },
  {
   "cell_type": "code",
   "execution_count": null,
   "metadata": {},
   "outputs": [],
   "source": [
    "similarity_model.print_buckingham_similarity_group()"
   ]
  },
  {
   "cell_type": "markdown",
   "metadata": {},
   "source": [
    "We can now use the find_incomplete_similarity method in order to use the BarenNet to find proper incomplete similarity exponents, as well as estimating the function $\\Phi^{(1)}$ with a Deep Neural Network."
   ]
  },
  {
   "cell_type": "code",
   "execution_count": null,
   "metadata": {},
   "outputs": [],
   "source": [
    "similarity_model.find_incomplete_similarity(n_tries=5, n_epochs=10000, tol=5e-3)"
   ]
  },
  {
   "cell_type": "markdown",
   "metadata": {},
   "source": [
    "After training has been performed, we can check the exponents found by the BarenNet by printing the dictionary used to store them in our class. \n",
    "\n",
    "$\\cdot$ The entry dict[\"r\"][\"j\"] refers to the exponent of $j$ when it is multiplied by $r$ i.e. $\\xi_2^{(1)}$;\n",
    "\n",
    "$\\cdot$ As one should expect, the entry dict[\"phi\"][\"j\"] refers to the exponent of $j$ when it is multiplied by $\\phi$ i.e. $\\xi_1$.\n",
    "\n",
    "By looking at the incomplete similarity theoretical equation above, we come to the conclusion that $\\xi_1 \\approx - 1/3$ and $\\xi_2^{(1)} \\approx -2/3$. Let's see:"
   ]
  },
  {
   "cell_type": "code",
   "execution_count": null,
   "metadata": {},
   "outputs": [],
   "source": [
    "print(similarity_model.incomplete_similarity_exponents_dict)"
   ]
  },
  {
   "cell_type": "markdown",
   "metadata": {},
   "source": [
    "Now that incomplete similarity has been found, our package has already automatically calculated the renormalization group from the exponents found. Much like Buckingham's similarity group, we can print it with the following method:"
   ]
  },
  {
   "cell_type": "code",
   "execution_count": null,
   "metadata": {},
   "outputs": [],
   "source": [
    "similarity_model.print_renormalization_group()"
   ]
  },
  {
   "cell_type": "markdown",
   "metadata": {},
   "source": [
    "Now we will do plot some data points in original coordinates and, afterwards, plot the same points in the renormalized dimensionless coordinates. A data collapse is expected."
   ]
  },
  {
   "cell_type": "code",
   "execution_count": null,
   "metadata": {},
   "outputs": [],
   "source": [
    "import matplotlib.pyplot as plt\n",
    "import matplotlib.font_manager as font_manager\n",
    "plt.rc('mathtext', fontset=\"cm\")\n",
    "import matplotlib.ticker as mtick\n",
    "from matplotlib import cm # Colormaps\n",
    "import matplotlib.gridspec as gridspec\n",
    "import seaborn as sns\n",
    "\n",
    "from tutorial_utils.plotting_methods import (plot_widom_scaling,\n",
    "                                             plot_widom_scaling_renormalized)"
   ]
  },
  {
   "cell_type": "code",
   "execution_count": null,
   "metadata": {},
   "outputs": [],
   "source": [
    "plot_widom_scaling()"
   ]
  },
  {
   "cell_type": "code",
   "execution_count": null,
   "metadata": {},
   "outputs": [],
   "source": [
    "plot_widom_scaling_renormalized(similarity_model.incomplete_similarity_exponents_dict)"
   ]
  }
 ],
 "metadata": {
  "kernelspec": {
   "display_name": "barennet_env",
   "language": "python",
   "name": "python3"
  },
  "language_info": {
   "codemirror_mode": {
    "name": "ipython",
    "version": 3
   },
   "file_extension": ".py",
   "mimetype": "text/x-python",
   "name": "python",
   "nbconvert_exporter": "python",
   "pygments_lexer": "ipython3",
   "version": "3.11.5"
  }
 },
 "nbformat": 4,
 "nbformat_minor": 2
}
